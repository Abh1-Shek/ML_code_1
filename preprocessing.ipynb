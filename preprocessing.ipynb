{
 "cells": [
  {
   "cell_type": "code",
   "execution_count": 44,
   "metadata": {},
   "outputs": [],
   "source": [
    "# importing packages\n",
    "import math\n",
    "import numpy as np\n",
    "import pandas as pd"
   ]
  },
  {
   "cell_type": "code",
   "execution_count": 45,
   "metadata": {},
   "outputs": [],
   "source": [
    "# for importing the dataset as a numpy array\n",
    "dataset1 = pd.read_csv(r\"covid_dataset.csv\")\n",
    "dataset1 = dataset1[dataset1['location'] == 'India']\n",
    "# dataset1 = dataset1.to_numpy()\n",
    "dataset2 = pd.read_csv(r\"changes-visitors-covid.csv\")\n",
    "dataset2 = dataset2[dataset2['Entity'] == 'India']\n",
    "# dataset2 = dataset2.to_numpy()\n",
    "# dataset3 = pd.read_csv(r'continuous_attribute_table.csv')\n",
    "# dataset4 = pd.read_csv(r'pure_category.csv')"
   ]
  },
  {
   "cell_type": "code",
   "execution_count": 46,
   "metadata": {},
   "outputs": [],
   "source": [
    "dataset = pd.merge(dataset1, dataset2, on = 'date', how = 'inner')"
   ]
  },
  {
   "cell_type": "code",
   "execution_count": 47,
   "metadata": {},
   "outputs": [],
   "source": [
    "#select specific columns\n",
    "selected_dataset = dataset[['date','retail_and_recreation','grocery_and_pharmacy','residential','transit_stations','parks','workplaces','new_cases']]\n"
   ]
  },
  {
   "cell_type": "code",
   "execution_count": 48,
   "metadata": {},
   "outputs": [
    {
     "data": {
      "text/html": [
       "<div>\n",
       "<style scoped>\n",
       "    .dataframe tbody tr th:only-of-type {\n",
       "        vertical-align: middle;\n",
       "    }\n",
       "\n",
       "    .dataframe tbody tr th {\n",
       "        vertical-align: top;\n",
       "    }\n",
       "\n",
       "    .dataframe thead th {\n",
       "        text-align: right;\n",
       "    }\n",
       "</style>\n",
       "<table border=\"1\" class=\"dataframe\">\n",
       "  <thead>\n",
       "    <tr style=\"text-align: right;\">\n",
       "      <th></th>\n",
       "      <th>date</th>\n",
       "      <th>retail_and_recreation</th>\n",
       "      <th>grocery_and_pharmacy</th>\n",
       "      <th>residential</th>\n",
       "      <th>transit_stations</th>\n",
       "      <th>parks</th>\n",
       "      <th>workplaces</th>\n",
       "      <th>new_cases</th>\n",
       "    </tr>\n",
       "  </thead>\n",
       "  <tbody>\n",
       "    <tr>\n",
       "      <th>0</th>\n",
       "      <td>17-02-2020</td>\n",
       "      <td>0.667</td>\n",
       "      <td>1.667</td>\n",
       "      <td>0.000</td>\n",
       "      <td>2.000</td>\n",
       "      <td>3.000</td>\n",
       "      <td>3.000</td>\n",
       "      <td>0.0</td>\n",
       "    </tr>\n",
       "    <tr>\n",
       "      <th>1</th>\n",
       "      <td>18-02-2020</td>\n",
       "      <td>0.500</td>\n",
       "      <td>1.750</td>\n",
       "      <td>0.000</td>\n",
       "      <td>2.000</td>\n",
       "      <td>3.250</td>\n",
       "      <td>3.000</td>\n",
       "      <td>0.0</td>\n",
       "    </tr>\n",
       "    <tr>\n",
       "      <th>2</th>\n",
       "      <td>19-02-2020</td>\n",
       "      <td>0.400</td>\n",
       "      <td>1.800</td>\n",
       "      <td>0.200</td>\n",
       "      <td>1.800</td>\n",
       "      <td>2.800</td>\n",
       "      <td>3.200</td>\n",
       "      <td>0.0</td>\n",
       "    </tr>\n",
       "    <tr>\n",
       "      <th>3</th>\n",
       "      <td>20-02-2020</td>\n",
       "      <td>0.500</td>\n",
       "      <td>2.000</td>\n",
       "      <td>0.000</td>\n",
       "      <td>2.333</td>\n",
       "      <td>3.167</td>\n",
       "      <td>3.333</td>\n",
       "      <td>0.0</td>\n",
       "    </tr>\n",
       "    <tr>\n",
       "      <th>4</th>\n",
       "      <td>21-02-2020</td>\n",
       "      <td>-0.143</td>\n",
       "      <td>1.714</td>\n",
       "      <td>0.714</td>\n",
       "      <td>1.429</td>\n",
       "      <td>3.571</td>\n",
       "      <td>0.143</td>\n",
       "      <td>0.0</td>\n",
       "    </tr>\n",
       "  </tbody>\n",
       "</table>\n",
       "</div>"
      ],
      "text/plain": [
       "         date  retail_and_recreation  grocery_and_pharmacy  residential  \\\n",
       "0  17-02-2020                  0.667                 1.667        0.000   \n",
       "1  18-02-2020                  0.500                 1.750        0.000   \n",
       "2  19-02-2020                  0.400                 1.800        0.200   \n",
       "3  20-02-2020                  0.500                 2.000        0.000   \n",
       "4  21-02-2020                 -0.143                 1.714        0.714   \n",
       "\n",
       "   transit_stations  parks  workplaces  new_cases  \n",
       "0             2.000  3.000       3.000        0.0  \n",
       "1             2.000  3.250       3.000        0.0  \n",
       "2             1.800  2.800       3.200        0.0  \n",
       "3             2.333  3.167       3.333        0.0  \n",
       "4             1.429  3.571       0.143        0.0  "
      ]
     },
     "execution_count": 48,
     "metadata": {},
     "output_type": "execute_result"
    }
   ],
   "source": [
    "selected_dataset.head()"
   ]
  },
  {
   "cell_type": "code",
   "execution_count": 49,
   "metadata": {},
   "outputs": [],
   "source": [
    "new_cases = selected_dataset[['new_cases']].to_numpy()\n"
   ]
  },
  {
   "cell_type": "code",
   "execution_count": 50,
   "metadata": {},
   "outputs": [],
   "source": [
    "new_cases = new_cases.reshape((new_cases.shape[0],))"
   ]
  },
  {
   "cell_type": "code",
   "execution_count": 51,
   "metadata": {},
   "outputs": [],
   "source": [
    "new_cases = sorted(new_cases)"
   ]
  },
  {
   "cell_type": "code",
   "execution_count": 52,
   "metadata": {},
   "outputs": [
    {
     "name": "stdout",
     "output_type": "stream",
     "text": [
      "Min= 0.0 Max= 414188.0\n"
     ]
    }
   ],
   "source": [
    "mn = new_cases[0]\n",
    "mx = new_cases[len(new_cases) - 1]\n",
    "print('Min=', mn, 'Max=', mx)"
   ]
  },
  {
   "cell_type": "code",
   "execution_count": 53,
   "metadata": {},
   "outputs": [],
   "source": [
    "INTERVAL = 1000"
   ]
  },
  {
   "cell_type": "code",
   "execution_count": 54,
   "metadata": {},
   "outputs": [],
   "source": [
    "for i in range(len(new_cases)):\n",
    "    new_cases[i] = int(new_cases[i] / INTERVAL)"
   ]
  },
  {
   "cell_type": "code",
   "execution_count": 55,
   "metadata": {},
   "outputs": [],
   "source": [
    "# new_cases"
   ]
  },
  {
   "cell_type": "code",
   "execution_count": 56,
   "metadata": {},
   "outputs": [],
   "source": [
    "classes = pd.DataFrame({\n",
    "    'new_cases_classes': new_cases\n",
    "})"
   ]
  },
  {
   "cell_type": "code",
   "execution_count": 57,
   "metadata": {},
   "outputs": [],
   "source": [
    "prefinal_dataset = pd.concat([selected_dataset, classes], axis = 1)"
   ]
  },
  {
   "cell_type": "code",
   "execution_count": 58,
   "metadata": {},
   "outputs": [],
   "source": [
    "final_dataset = prefinal_dataset.drop(['new_cases','date'], axis = 1)"
   ]
  },
  {
   "cell_type": "code",
   "execution_count": 59,
   "metadata": {},
   "outputs": [
    {
     "data": {
      "text/html": [
       "<div>\n",
       "<style scoped>\n",
       "    .dataframe tbody tr th:only-of-type {\n",
       "        vertical-align: middle;\n",
       "    }\n",
       "\n",
       "    .dataframe tbody tr th {\n",
       "        vertical-align: top;\n",
       "    }\n",
       "\n",
       "    .dataframe thead th {\n",
       "        text-align: right;\n",
       "    }\n",
       "</style>\n",
       "<table border=\"1\" class=\"dataframe\">\n",
       "  <thead>\n",
       "    <tr style=\"text-align: right;\">\n",
       "      <th></th>\n",
       "      <th>retail_and_recreation</th>\n",
       "      <th>grocery_and_pharmacy</th>\n",
       "      <th>residential</th>\n",
       "      <th>transit_stations</th>\n",
       "      <th>parks</th>\n",
       "      <th>workplaces</th>\n",
       "      <th>new_cases_classes</th>\n",
       "    </tr>\n",
       "  </thead>\n",
       "  <tbody>\n",
       "    <tr>\n",
       "      <th>0</th>\n",
       "      <td>0.667</td>\n",
       "      <td>1.667</td>\n",
       "      <td>0.000</td>\n",
       "      <td>2.000</td>\n",
       "      <td>3.000</td>\n",
       "      <td>3.000</td>\n",
       "      <td>0</td>\n",
       "    </tr>\n",
       "    <tr>\n",
       "      <th>1</th>\n",
       "      <td>0.500</td>\n",
       "      <td>1.750</td>\n",
       "      <td>0.000</td>\n",
       "      <td>2.000</td>\n",
       "      <td>3.250</td>\n",
       "      <td>3.000</td>\n",
       "      <td>0</td>\n",
       "    </tr>\n",
       "    <tr>\n",
       "      <th>2</th>\n",
       "      <td>0.400</td>\n",
       "      <td>1.800</td>\n",
       "      <td>0.200</td>\n",
       "      <td>1.800</td>\n",
       "      <td>2.800</td>\n",
       "      <td>3.200</td>\n",
       "      <td>0</td>\n",
       "    </tr>\n",
       "    <tr>\n",
       "      <th>3</th>\n",
       "      <td>0.500</td>\n",
       "      <td>2.000</td>\n",
       "      <td>0.000</td>\n",
       "      <td>2.333</td>\n",
       "      <td>3.167</td>\n",
       "      <td>3.333</td>\n",
       "      <td>0</td>\n",
       "    </tr>\n",
       "    <tr>\n",
       "      <th>4</th>\n",
       "      <td>-0.143</td>\n",
       "      <td>1.714</td>\n",
       "      <td>0.714</td>\n",
       "      <td>1.429</td>\n",
       "      <td>3.571</td>\n",
       "      <td>0.143</td>\n",
       "      <td>0</td>\n",
       "    </tr>\n",
       "    <tr>\n",
       "      <th>...</th>\n",
       "      <td>...</td>\n",
       "      <td>...</td>\n",
       "      <td>...</td>\n",
       "      <td>...</td>\n",
       "      <td>...</td>\n",
       "      <td>...</td>\n",
       "      <td>...</td>\n",
       "    </tr>\n",
       "    <tr>\n",
       "      <th>466</th>\n",
       "      <td>-61.714</td>\n",
       "      <td>-25.000</td>\n",
       "      <td>24.143</td>\n",
       "      <td>-49.143</td>\n",
       "      <td>-41.000</td>\n",
       "      <td>-45.429</td>\n",
       "      <td>401</td>\n",
       "    </tr>\n",
       "    <tr>\n",
       "      <th>467</th>\n",
       "      <td>-61.286</td>\n",
       "      <td>-24.429</td>\n",
       "      <td>23.714</td>\n",
       "      <td>-48.714</td>\n",
       "      <td>-40.000</td>\n",
       "      <td>-44.571</td>\n",
       "      <td>401</td>\n",
       "    </tr>\n",
       "    <tr>\n",
       "      <th>468</th>\n",
       "      <td>-61.143</td>\n",
       "      <td>-24.714</td>\n",
       "      <td>23.714</td>\n",
       "      <td>-49.000</td>\n",
       "      <td>-39.143</td>\n",
       "      <td>-44.286</td>\n",
       "      <td>403</td>\n",
       "    </tr>\n",
       "    <tr>\n",
       "      <th>469</th>\n",
       "      <td>-60.143</td>\n",
       "      <td>-23.429</td>\n",
       "      <td>23.286</td>\n",
       "      <td>-48.286</td>\n",
       "      <td>-38.000</td>\n",
       "      <td>-43.429</td>\n",
       "      <td>412</td>\n",
       "    </tr>\n",
       "    <tr>\n",
       "      <th>470</th>\n",
       "      <td>-58.714</td>\n",
       "      <td>-21.143</td>\n",
       "      <td>22.714</td>\n",
       "      <td>-47.000</td>\n",
       "      <td>-36.571</td>\n",
       "      <td>-42.429</td>\n",
       "      <td>414</td>\n",
       "    </tr>\n",
       "  </tbody>\n",
       "</table>\n",
       "<p>471 rows × 7 columns</p>\n",
       "</div>"
      ],
      "text/plain": [
       "     retail_and_recreation  grocery_and_pharmacy  residential  \\\n",
       "0                    0.667                 1.667        0.000   \n",
       "1                    0.500                 1.750        0.000   \n",
       "2                    0.400                 1.800        0.200   \n",
       "3                    0.500                 2.000        0.000   \n",
       "4                   -0.143                 1.714        0.714   \n",
       "..                     ...                   ...          ...   \n",
       "466                -61.714               -25.000       24.143   \n",
       "467                -61.286               -24.429       23.714   \n",
       "468                -61.143               -24.714       23.714   \n",
       "469                -60.143               -23.429       23.286   \n",
       "470                -58.714               -21.143       22.714   \n",
       "\n",
       "     transit_stations   parks  workplaces  new_cases_classes  \n",
       "0               2.000   3.000       3.000                  0  \n",
       "1               2.000   3.250       3.000                  0  \n",
       "2               1.800   2.800       3.200                  0  \n",
       "3               2.333   3.167       3.333                  0  \n",
       "4               1.429   3.571       0.143                  0  \n",
       "..                ...     ...         ...                ...  \n",
       "466           -49.143 -41.000     -45.429                401  \n",
       "467           -48.714 -40.000     -44.571                401  \n",
       "468           -49.000 -39.143     -44.286                403  \n",
       "469           -48.286 -38.000     -43.429                412  \n",
       "470           -47.000 -36.571     -42.429                414  \n",
       "\n",
       "[471 rows x 7 columns]"
      ]
     },
     "execution_count": 59,
     "metadata": {},
     "output_type": "execute_result"
    }
   ],
   "source": [
    "final_dataset"
   ]
  },
  {
   "cell_type": "code",
   "execution_count": 60,
   "metadata": {},
   "outputs": [],
   "source": [
    "final_dataset.to_csv('processed_covid_data.csv', index = False)"
   ]
  },
  {
   "cell_type": "code",
   "execution_count": null,
   "metadata": {},
   "outputs": [],
   "source": []
  }
 ],
 "metadata": {
  "interpreter": {
   "hash": "4ae141d93f6337e9a20a8395b8018e64e99a1e5c84b295f1c46fe5520871454d"
  },
  "kernelspec": {
   "display_name": "Python 3.8.5 32-bit",
   "language": "python",
   "name": "python3"
  },
  "language_info": {
   "codemirror_mode": {
    "name": "ipython",
    "version": 3
   },
   "file_extension": ".py",
   "mimetype": "text/x-python",
   "name": "python",
   "nbconvert_exporter": "python",
   "pygments_lexer": "ipython3",
   "version": "3.8.5"
  },
  "orig_nbformat": 4
 },
 "nbformat": 4,
 "nbformat_minor": 2
}
