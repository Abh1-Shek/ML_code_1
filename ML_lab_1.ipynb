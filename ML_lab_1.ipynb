{
 "cells": [
  {
   "cell_type": "code",
   "execution_count": 1,
   "metadata": {},
   "outputs": [],
   "source": [
    "import math\n",
    "import numpy as np\n",
    "import pandas as pd"
   ]
  },
  {
   "cell_type": "code",
   "execution_count": 2,
   "metadata": {},
   "outputs": [],
   "source": [
    "def get_probability(event_info):\n",
    "  SUM = sum(event_info)\n",
    "  for i in range(len(event_info)):\n",
    "        event_info[i] /= SUM\n",
    "  return event_info\n",
    "\n",
    "\n",
    "def get_entropy(event_info):\n",
    "  probabilities = get_probability(event_info)\n",
    "  entropy = 0\n",
    "  for p in probabilities:\n",
    "    entropy += p * math.log(1 / p) / math.log(2)\n",
    "  return entropy\n"
   ]
  },
  {
   "cell_type": "code",
   "execution_count": 3,
   "metadata": {},
   "outputs": [],
   "source": [
    "def sort_table_by_column(table, col):\n",
    "    return table[table[:, col].argsort()]"
   ]
  },
  {
   "cell_type": "code",
   "execution_count": 20,
   "metadata": {},
   "outputs": [],
   "source": [
    "# for importing the dataset as a numpy array\n",
    "dataset1 = pd.read_csv(r\"covid_dataset.csv\")\n",
    "# dataset1 = dataset1.to_numpy()\n",
    "dataset2 = pd.read_csv(r\"changes-visitors-covid.csv\")\n",
    "# dataset2 = dataset2.to_numpy()"
   ]
  },
  {
   "cell_type": "code",
   "execution_count": 13,
   "metadata": {},
   "outputs": [],
   "source": [
    "dataset = pd.merge(dataset1, dataset2, on = 'date', how = 'inner')"
   ]
  },
  {
   "cell_type": "code",
   "execution_count": 14,
   "metadata": {},
   "outputs": [],
   "source": [
    "dataset = dataset.to_numpy()"
   ]
  },
  {
   "cell_type": "code",
   "execution_count": 24,
   "metadata": {},
   "outputs": [
    {
     "name": "stdout",
     "output_type": "stream",
     "text": [
      "(93331, 59)\n",
      "(61950, 9)\n",
      "(0, 67)\n"
     ]
    }
   ],
   "source": [
    "print(dataset1.shape)\n",
    "print(dataset2.shape)\n",
    "print(dataset.shape)"
   ]
  },
  {
   "cell_type": "code",
   "execution_count": null,
   "metadata": {},
   "outputs": [],
   "source": []
  }
 ],
 "metadata": {
  "interpreter": {
   "hash": "4ae141d93f6337e9a20a8395b8018e64e99a1e5c84b295f1c46fe5520871454d"
  },
  "kernelspec": {
   "display_name": "'Python Interactive'",
   "language": "python",
   "name": "52c418bc-bd7d-4061-b6a2-3b59f32782e1"
  },
  "language_info": {
   "codemirror_mode": {
    "name": "ipython",
    "version": 3
   },
   "file_extension": ".py",
   "mimetype": "text/x-python",
   "name": "python",
   "nbconvert_exporter": "python",
   "pygments_lexer": "ipython3",
   "version": "3.7.4"
  }
 },
 "nbformat": 4,
 "nbformat_minor": 2
}
