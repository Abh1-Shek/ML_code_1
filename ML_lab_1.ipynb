{
 "cells": [
  {
   "cell_type": "code",
   "execution_count": 1,
   "metadata": {},
   "outputs": [],
   "source": [
    "import math\n",
    "import numpy as np\n",
    "import pandas as pd"
   ]
  },
  {
   "cell_type": "code",
   "execution_count": 2,
   "metadata": {},
   "outputs": [],
   "source": [
    "def get_probability(event_info):\n",
    "  SUM = sum(event_info)\n",
    "  for i in range(len(event_info)):\n",
    "        event_info[i] /= SUM\n",
    "  return event_info\n",
    "\n",
    "\n",
    "def get_entropy(event_info):\n",
    "  probabilities = get_probability(event_info)\n",
    "  entropy = 0\n",
    "  for p in probabilities:\n",
    "    entropy += p * math.log(1 / p) / math.log(2)\n",
    "  return entropy\n"
   ]
  },
  {
   "cell_type": "code",
   "execution_count": 3,
   "metadata": {},
   "outputs": [],
   "source": [
    "def sort_table_by_column(table, col):\n",
    "    return table[table[:, col].argsort()]"
   ]
  },
  {
   "cell_type": "code",
   "execution_count": 4,
   "metadata": {},
   "outputs": [],
   "source": [
    "# for importing the dataset as a numpy array\n",
    "dataset = pd.read_csv(r\"C:\\Users\\Abhishek Sharma\\Downloads\\covid_dataset.csv\")\n",
    "dataset = dataset.to_numpy()"
   ]
  },
  {
   "cell_type": "code",
   "execution_count": 5,
   "metadata": {},
   "outputs": [
    {
     "name": "stdout",
     "output_type": "stream",
     "text": [
      "[['AFG' 'Asia' 'Afghanistan' '2020-02-24' 1.0 1.0]\n",
      " ['AFG' 'Asia' 'Afghanistan' '2020-06-03' 17270.0 758.0]\n",
      " ['AFG' 'Asia' 'Afghanistan' '2020-09-11' 38606.0 34.0]\n",
      " ['AFG' 'Asia' 'Afghanistan' '2020-12-20' 49817.0 136.0]\n",
      " ['ALB' 'Europe' 'Albania' '2020-04-22' 634.0 25.0]\n",
      " ['AND' 'Europe' 'Andorra' '2020-07-07' 855.0 0.0]]\n"
     ]
    }
   ],
   "source": [
    "print(dataset[[0,100, 200, 300, 1000, 2000], 0:6])"
   ]
  },
  {
   "cell_type": "code",
   "execution_count": 6,
   "metadata": {},
   "outputs": [],
   "source": [
    "x = dataset[[0,100, 200, 300, 1000, 2000], 0:6]\n",
    "x_s = sort_table_by_column(x, 4)"
   ]
  },
  {
   "cell_type": "code",
   "execution_count": 7,
   "metadata": {},
   "outputs": [
    {
     "data": {
      "text/plain": [
       "array([['AFG', 'Asia', 'Afghanistan', '2020-02-24', 1.0, 1.0],\n",
       "       ['ALB', 'Europe', 'Albania', '2020-04-22', 634.0, 25.0],\n",
       "       ['AND', 'Europe', 'Andorra', '2020-07-07', 855.0, 0.0],\n",
       "       ['AFG', 'Asia', 'Afghanistan', '2020-06-03', 17270.0, 758.0],\n",
       "       ['AFG', 'Asia', 'Afghanistan', '2020-09-11', 38606.0, 34.0],\n",
       "       ['AFG', 'Asia', 'Afghanistan', '2020-12-20', 49817.0, 136.0]],\n",
       "      dtype=object)"
      ]
     },
     "execution_count": 7,
     "metadata": {},
     "output_type": "execute_result"
    }
   ],
   "source": [
    "x_s"
   ]
  },
  {
   "cell_type": "code",
   "execution_count": null,
   "metadata": {},
   "outputs": [],
   "source": []
  },
  {
   "cell_type": "code",
   "execution_count": null,
   "metadata": {},
   "outputs": [],
   "source": []
  },
  {
   "cell_type": "code",
   "execution_count": null,
   "metadata": {},
   "outputs": [],
   "source": []
  }
 ],
 "metadata": {
  "interpreter": {
   "hash": "39f6e3e3139323f46889edebd2e7a554c59dc40d6e4416f1534eadb044122a2d"
  },
  "kernelspec": {
   "display_name": "'Python Interactive'",
   "language": "python",
   "name": "52c418bc-bd7d-4061-b6a2-3b59f32782e1"
  },
  "language_info": {
   "codemirror_mode": {
    "name": "ipython",
    "version": 3
   },
   "file_extension": ".py",
   "mimetype": "text/x-python",
   "name": "python",
   "nbconvert_exporter": "python",
   "pygments_lexer": "ipython3",
   "version": "3.7.4"
  }
 },
 "nbformat": 4,
 "nbformat_minor": 2
}
