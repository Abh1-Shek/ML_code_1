{
  "cells": [
    {
      "cell_type": "code",
      "execution_count": 737,
      "metadata": {
        "id": "jSMWxblgZIUO"
      },
      "outputs": [],
      "source": [
        "# importing packages\n",
        "import math\n",
        "import numpy as np\n",
        "import pandas as pd"
      ]
    },
    {
      "cell_type": "code",
      "execution_count": 738,
      "metadata": {
        "id": "olU2Ae2vZIUb"
      },
      "outputs": [],
      "source": [
        "# helper function for getting probability from frequency table\n",
        "# this function is used in get_entropy()\n",
        "def get_probability(event_info):\n",
        "  SUM = sum(event_info)\n",
        "  for i in range(len(event_info)):\n",
        "        event_info[i] /= SUM\n",
        "  return event_info\n",
        "\n",
        "\n",
        "# this function gets entropy from frequency table\n",
        "def get_entropy(event_info):\n",
        "  probabilities = get_probability(event_info)\n",
        "  # print('probabilities', probabilities)\n",
        "  entropy = 0.0\n",
        "  for p in probabilities:\n",
        "    if p != 0:\n",
        "      entropy += p * math.log(1 / p) / math.log(2)\n",
        "  return entropy\n",
        "\n",
        "# this function gets gini impurity from frequency table\n",
        "def get_gini_impurity(event_info):\n",
        "  probabilities = get_probability(event_info)\n",
        "  # print('probabilities', probabilities)\n",
        "  imp = 0.0\n",
        "  for p in probabilities:\n",
        "    if p != 0:\n",
        "      imp += p * (1.0 - p)\n",
        "  return imp\n"
      ]
    },
    {
      "cell_type": "code",
      "execution_count": 739,
      "metadata": {
        "id": "z067x_bdZIUe"
      },
      "outputs": [],
      "source": [
        "#this funtion sort table by column\n",
        "def sort_table_by_column(table, col):\n",
        "    return table.sort_values(by = [col]).reset_index(drop=True)"
      ]
    },
    {
      "cell_type": "code",
      "execution_count": 740,
      "metadata": {
        "id": "f9UNYlRcFSYT"
      },
      "outputs": [],
      "source": [
        "# # for importing the dataset as a numpy array\n",
        "# dataset1 = pd.read_csv(r\"covid_dataset.csv\")\n",
        "# dataset1 = dataset1[dataset1['location'] == 'India']\n",
        "# # dataset1 = dataset1.to_numpy()\n",
        "# dataset2 = pd.read_csv(r\"changes-visitors-covid.csv\")\n",
        "# dataset2 = dataset2[dataset2['Entity'] == 'India']\n",
        "# # dataset2 = dataset2.to_numpy()\n",
        "# dataset3 = pd.read_csv(r'continuous_attribute_table.csv')\n",
        "# dataset4 = pd.read_csv(r'pure_category.csv')"
      ]
    },
    {
      "cell_type": "code",
      "execution_count": 741,
      "metadata": {
        "id": "jc9hI-LmFSYT"
      },
      "outputs": [],
      "source": [
        "# dataset = pd.merge(dataset1, dataset2, on = 'date', how = 'inner')"
      ]
    },
    {
      "cell_type": "code",
      "execution_count": 742,
      "metadata": {
        "id": "X2ZxAmij0lYN"
      },
      "outputs": [],
      "source": [
        "# example_dataset = dataset1 = pd.read_csv(r\"example_data.csv\")"
      ]
    },
    {
      "cell_type": "code",
      "execution_count": 743,
      "metadata": {
        "id": "KfXU0JpnZIUr"
      },
      "outputs": [],
      "source": [
        "# print(example_dataset)"
      ]
    },
    {
      "cell_type": "code",
      "execution_count": 744,
      "metadata": {
        "id": "14rFwiubcfP1"
      },
      "outputs": [],
      "source": [
        "def split_dataset_wrt_column(dataset, column_name):\n",
        "  unique_items = dataset[column_name].unique()\n",
        "  tables = []\n",
        "  for item in unique_items:\n",
        "    tables.append(dataset[dataset[column_name] == item])\n",
        "  return tables"
      ]
    },
    {
      "cell_type": "code",
      "execution_count": 745,
      "metadata": {
        "id": "WT5mBi9bitUH"
      },
      "outputs": [],
      "source": [
        "def get_count(table, target_column, class_name):\n",
        "  # print(class_name)\n",
        "  # ans =  (table[target_column] == class_name).shape[0]\n",
        "  ans = (table[target_column] == class_name).sum()\n",
        "  # print (ans)\n",
        "  return ans"
      ]
    },
    {
      "cell_type": "code",
      "execution_count": 746,
      "metadata": {
        "id": "_GkSt7uXhvQu"
      },
      "outputs": [],
      "source": [
        "def get_entropy_from_table(table, target_column):\n",
        "  unique_classes = table[target_column].unique()\n",
        "  # print(unique_classes)\n",
        "  counts = []\n",
        "  for class_name in unique_classes:\n",
        "    counts.append(get_count(table,target_column, class_name))\n",
        "  # print(\"Count is \", counts)\n",
        "  return get_entropy(counts)    # write get_gini_impurity if you want to change the parameter to gini imp from entropy\n",
        "  "
      ]
    },
    {
      "cell_type": "code",
      "execution_count": 747,
      "metadata": {
        "id": "0GeFnIU6gGeC"
      },
      "outputs": [],
      "source": [
        "# this function returns the information gain of the column \"column\" when the target column is \"target_column\" of the table dataset\n",
        "# only for categorical column or attribute\n",
        "def get_information_gain(dataset, column, target_column):\n",
        "  tables = []\n",
        "  size_table = []\n",
        "  overall_size = dataset.shape[0]\n",
        "  for table in split_dataset_wrt_column(dataset, column):\n",
        "    tables.append(table)\n",
        "    size_table.append(table.shape[0])\n",
        "  entropies = []\n",
        "  for table in tables:\n",
        "    # print(table)\n",
        "    entropies.append(get_entropy_from_table(table, target_column))\n",
        "  # print(\"entropies=\", entropies)\n",
        "  # entropies = [get_entropy_from_table(table, target_column) for table in tables]\n",
        "  # print(entropies)\n",
        "  entropy_initial = get_entropy_from_table(dataset, target_column)    # entropy without splitting\n",
        "  # print(\"entropy_intial=\",entropy_initial)\n",
        "  entropy = sum([(size / overall_size) * entropyi for size, entropyi in zip(size_table, entropies)])  # entropy after splitting\n",
        "  return (entropy_initial - entropy)\n"
      ]
    },
    {
      "cell_type": "code",
      "execution_count": 748,
      "metadata": {
        "id": "nwdChokGjfGR"
      },
      "outputs": [],
      "source": [
        "# get_information_gain(example_dataset, 'Sailboat', 'target')"
      ]
    },
    {
      "cell_type": "code",
      "execution_count": 749,
      "metadata": {
        "id": "Y7BKcqQbFSYX"
      },
      "outputs": [],
      "source": [
        "def max_index(arr):\n",
        "    index = 0\n",
        "    mx = arr[0]\n",
        "    for i in range(len(arr)):\n",
        "        if mx < arr[i]:\n",
        "            index = i\n",
        "            mx = arr[i]\n",
        "    return index\n"
      ]
    },
    {
      "cell_type": "code",
      "execution_count": 750,
      "metadata": {
        "id": "EWxhZSY7nRQL"
      },
      "outputs": [],
      "source": [
        "# get_information_gain(example_dataset, 'Sailboat', 'target')"
      ]
    },
    {
      "cell_type": "code",
      "execution_count": 751,
      "metadata": {
        "id": "bWlzydeJFSYY"
      },
      "outputs": [],
      "source": [
        "def get_value_with_min_entropy_wrt_continuous_column(table, column, target_column):\n",
        "    # step 1: sort the table\n",
        "    new_table = sort_table_by_column(table, column)\n",
        "    # print(new_table)\n",
        "    # step 2: get various averages\n",
        "    avg_array = []\n",
        "    length_new_table = len(new_table)\n",
        "    for i in range(length_new_table - 1):\n",
        "        avg_array.append((new_table.at[i,column] + new_table.at[i + 1, column]) / 2)\n",
        "    \n",
        "    # print(avg_array)\n",
        "    # step 3: count before and after averages\n",
        "    IGs = []\n",
        "    parentIG = get_entropy_from_table(new_table, target_column)\n",
        "    for i in range(length_new_table - 1):\n",
        "        table1 = new_table.iloc[:i + 1,:]\n",
        "        table2 = new_table.iloc[i + 1:, :]\n",
        "        # print('Table 1')\n",
        "        # print(table1)\n",
        "        # print('Table 2')\n",
        "        # print(table2)\n",
        "        E1 = get_entropy_from_table(table1, target_column)\n",
        "        E2 = get_entropy_from_table(table2, target_column)\n",
        "        # print('E1=',E1, 'E2=', E2)\n",
        "        E = (len(table1) / len(table)) * E1 + (len(table2) / len(table)) * E2\n",
        "        IG = parentIG - E\n",
        "        IGs.append(IG)\n",
        "    # print(IGs)\n",
        "    # if(len(avg_array) == 0):\n",
        "    #     IGs = [0]\n",
        "    #     avg_array = [1]\n",
        "    index = max_index(IGs)\n",
        "    \n",
        "    return avg_array[index], IGs[index]  # split wrt value, IG according to that value\n",
        "    # step 4: calculate the entropy wrt each average\n",
        "    # step 5: determine the best split with most information gain\n",
        "    "
      ]
    },
    {
      "cell_type": "code",
      "execution_count": 752,
      "metadata": {
        "id": "XP7f8Pe9FSYY"
      },
      "outputs": [],
      "source": [
        "# get_value_with_min_entropy_wrt_continuous_column(dataset3, 'Weight', 'Heart_disease')"
      ]
    },
    {
      "cell_type": "code",
      "execution_count": 753,
      "metadata": {
        "id": "5gc6u622FSYY"
      },
      "outputs": [],
      "source": [
        "# dataset3"
      ]
    },
    {
      "cell_type": "code",
      "execution_count": 754,
      "metadata": {
        "id": "nA5vGyQBFSYZ"
      },
      "outputs": [],
      "source": [
        "#This function returns the best column for the split\n",
        "def get_best_column (table, target_column, is_categorical):\n",
        "    values = []\n",
        "    # is_categorical is an array which is true if the data is categorical and false if continuous\n",
        "    IGs = []\n",
        "    for index,column in enumerate(table):\n",
        "        if(column == target_column):\n",
        "            break\n",
        "        # print(column,index)\n",
        "        if(is_categorical[index] == 1):\n",
        "            values.append(None)\n",
        "            IGs.append(get_information_gain(table, column, target_column))\n",
        "        else:\n",
        "            #value is the value at which the splitting occurs in the column and IG is the corresponding Info gain\n",
        "            value, IG = get_value_with_min_entropy_wrt_continuous_column(table,column,target_column)\n",
        "            values.append(value)\n",
        "            # print(value)\n",
        "            IGs.append(IG)\n",
        "    selected_index = max_index(IGs)\n",
        "    if(is_categorical[selected_index]):\n",
        "        return selected_index, table.columns[selected_index], None, IGs[selected_index]\n",
        "    else:\n",
        "        return selected_index, table.columns[selected_index],values[selected_index], IGs[selected_index]\n",
        "\n"
      ]
    },
    {
      "cell_type": "code",
      "execution_count": 755,
      "metadata": {
        "id": "3JOCYodiFSYZ"
      },
      "outputs": [],
      "source": [
        "# get_best_column(example_dataset, 'target', [1,0,1,1])"
      ]
    },
    {
      "cell_type": "code",
      "execution_count": 756,
      "metadata": {
        "id": "u69sS8y4FSYZ"
      },
      "outputs": [],
      "source": [
        "def split_table_wrt_value(table,value,column):\n",
        "    table1 = table[table[column] <= value]\n",
        "    table2 = table[table[column] > value]\n",
        "    return table1,table2"
      ]
    },
    {
      "cell_type": "code",
      "execution_count": 757,
      "metadata": {
        "id": "klKLuVJRFSYZ"
      },
      "outputs": [],
      "source": [
        "# table1, table2 = split_table_wrt_value(example_dataset,56.0,'Value')\n",
        "# print(table1)\n",
        "# print()\n",
        "# print(table2)"
      ]
    },
    {
      "cell_type": "code",
      "execution_count": 758,
      "metadata": {
        "id": "5MjvHwtjFSYZ"
      },
      "outputs": [],
      "source": [
        "class Node:\n",
        "    def __init__(self, condition, children, decisions):\n",
        "        self.condition = condition\n",
        "        self.children = children\n",
        "        self.decisions = decisions"
      ]
    },
    {
      "cell_type": "code",
      "execution_count": 759,
      "metadata": {
        "id": "pSp04j8DFSYa"
      },
      "outputs": [],
      "source": [
        "class Leaf:\n",
        "    def __init__(self, leaf_value):\n",
        "        self.leaf_value = leaf_value\n",
        "        self.condition = \"THIS IS A LEAF NODE!!\"\n",
        "        "
      ]
    },
    {
      "cell_type": "code",
      "execution_count": 760,
      "metadata": {
        "id": "K5KRACpHFSYa"
      },
      "outputs": [],
      "source": [
        "# this cell contains all the constants please beware\n",
        "THRESHOLD_VALUE = 0.0\n",
        "THRESHOLD_SIZE = 10\n",
        "IS_CATEGORICAL = [0, 0, 0, 0, 0, 0]\n",
        "TARGET_COLUMN = \"new_cases_classes\""
      ]
    },
    {
      "cell_type": "code",
      "execution_count": 761,
      "metadata": {
        "id": "y0KzxcvwFSYa"
      },
      "outputs": [],
      "source": [
        "# returns the value and probability for the leaf which have maximum probability\n",
        "def get_value_for_leaf(table, target_column):\n",
        "    freq = dict()\n",
        "    unique_classes = table[target_column].unique()\n",
        "    for class_name in unique_classes:\n",
        "        freq[class_name] = 0\n",
        "    for index, row in table.iterrows():\n",
        "        freq[row[target_column]] += 1\n",
        "    mx = 0\n",
        "    value = None\n",
        "    sum_of_freq = 0.0\n",
        "    for class_name, freq_of_class in freq.items():\n",
        "        sum_of_freq += freq_of_class\n",
        "        if mx < freq_of_class:\n",
        "            mx = freq_of_class\n",
        "            value = class_name\n",
        "    return value, mx / sum_of_freq"
      ]
    },
    {
      "cell_type": "code",
      "execution_count": 762,
      "metadata": {
        "id": "x4B23UrpFSYa"
      },
      "outputs": [],
      "source": [
        "def build_tree(table):\n",
        "    if len(table) <= THRESHOLD_SIZE:\n",
        "      return Leaf(get_value_for_leaf(table, TARGET_COLUMN))\n",
        "    # step1 find the best split\n",
        "    selected_index, column_name, value, best_IG = get_best_column(table, TARGET_COLUMN, IS_CATEGORICAL)\n",
        "    tables = []\n",
        "    decisions = []\n",
        "    condition = None\n",
        "    # categorical value\n",
        "    if value == None:\n",
        "        tables = split_dataset_wrt_column(table, column_name)\n",
        "        start_index = 0\n",
        "        for splited_table in tables:\n",
        "            decisions.append(splited_table.iloc[0][column_name])\n",
        "            start_index += len(splited_table)\n",
        "        condition = column_name\n",
        "    # Continuous Value\n",
        "    else:\n",
        "        table1, table2 = split_table_wrt_value(table, value, column_name)\n",
        "        tables.append(table1)\n",
        "        tables.append(table2)\n",
        "        decisions = [None,None]\n",
        "        condition = [value, column_name]\n",
        "    # put some base condition\n",
        "    if best_IG <= THRESHOLD_VALUE or len(table) <= THRESHOLD_SIZE:\n",
        "        return Leaf(get_value_for_leaf(table, TARGET_COLUMN))\n",
        "    # make tree for each child\n",
        "    children = []\n",
        "    for table in tables:\n",
        "        child = build_tree(table)\n",
        "        children.append(child)\n",
        "    # return the current node which is already linked to its children so that current node's parent can link current node\n",
        "    return Node(condition, children,decisions)"
      ]
    },
    {
      "cell_type": "code",
      "execution_count": 763,
      "metadata": {
        "id": "gLivJepMFSYa"
      },
      "outputs": [],
      "source": [
        "# root = build_tree(example_dataset) # before running this cell change the IS_CATEGORICAL array"
      ]
    },
    {
      "cell_type": "code",
      "execution_count": 764,
      "metadata": {
        "id": "-ONHzJHeFSYb"
      },
      "outputs": [],
      "source": [
        "# print(root.condition)\n",
        "# for child in root.children:\n",
        "#     print(child.condition)\n",
        "#     if (child.condition == \"THIS IS A LEAF NODE!!\"):\n",
        "#         print(child.leaf_value)"
      ]
    },
    {
      "cell_type": "code",
      "execution_count": 765,
      "metadata": {
        "id": "sJXYiykJFSYb"
      },
      "outputs": [],
      "source": [
        "# root = build_tree(dataset4)"
      ]
    },
    {
      "cell_type": "code",
      "execution_count": 766,
      "metadata": {
        "id": "mpyJvF6pFSYb"
      },
      "outputs": [],
      "source": [
        "# print(root.condition)\n",
        "# for child in root.children:\n",
        "#     print(child.condition)\n",
        "#     if (child.condition == \"THIS IS A LEAF NODE!!\"):\n",
        "#         print(child.leaf_value)"
      ]
    },
    {
      "cell_type": "code",
      "execution_count": 767,
      "metadata": {
        "id": "BbQy2f9GFSYb"
      },
      "outputs": [],
      "source": [
        "\n",
        "def print_tree(root, spacing=\"\"):\n",
        "    if isinstance(root, Leaf):\n",
        "        print(spacing, root.leaf_value)\n",
        "        return\n",
        "    print(spacing, root.condition,root.decisions)\n",
        "    for child in root.children:\n",
        "        print_tree(child,spacing+\"--> \")\n",
        "\n",
        "    \n",
        "    "
      ]
    },
    {
      "cell_type": "code",
      "execution_count": 768,
      "metadata": {
        "id": "-kdK1F_KFSYb"
      },
      "outputs": [],
      "source": [
        "# print_tree(root)"
      ]
    },
    {
      "cell_type": "code",
      "execution_count": 769,
      "metadata": {
        "id": "eARfuDRWFSYb"
      },
      "outputs": [],
      "source": [
        "def find_index(arr,x):\n",
        "    for i in range (len(arr)):\n",
        "        if(arr[i] == x):\n",
        "            return i"
      ]
    },
    {
      "cell_type": "code",
      "execution_count": 770,
      "metadata": {
        "id": "0kb9QqY_FSYb"
      },
      "outputs": [],
      "source": [
        "def predict(row,root):\n",
        "    #base case\n",
        "    if(isinstance(root,Leaf)):\n",
        "        return root.leaf_value\n",
        "    value_to_check = row.at[0, root.condition]\n",
        "    child_index = find_index(root.decisions, value_to_check)\n",
        "    return predict(row, root.children[child_index])\n",
        "\n",
        "        \n"
      ]
    },
    {
      "cell_type": "code",
      "execution_count": 771,
      "metadata": {
        "id": "WheRs2PSFSYb"
      },
      "outputs": [],
      "source": [
        "# test_data = pd.DataFrame({\n",
        "#     'Outlook': ['rainy'],\n",
        "#     'Company': ['big'],\n",
        "#     'Sailboat': ['small']\n",
        "# })"
      ]
    },
    {
      "cell_type": "code",
      "execution_count": 772,
      "metadata": {
        "id": "bnlP-NXLFSYc"
      },
      "outputs": [],
      "source": [
        "# print(predict(test_data, root))"
      ]
    },
    {
      "cell_type": "code",
      "execution_count": 773,
      "metadata": {
        "colab": {
          "base_uri": "https://localhost:8080/"
        },
        "id": "gwoOcI-dFSYc",
        "outputId": "d92fa73a-161f-4989-aa8e-b1bfd17ed1e8"
      },
      "outputs": [
        {
          "output_type": "stream",
          "name": "stdout",
          "text": [
            "retail_and_recreation    float64\n",
            "grocery_and_pharmacy     float64\n",
            "residential              float64\n",
            "transit_stations         float64\n",
            "parks                    float64\n",
            "workplaces               float64\n",
            "new_cases_classes          int64\n",
            "dtype: object\n"
          ]
        }
      ],
      "source": [
        "dataset5 = pd.read_csv(r'/content/sample_data/processed_covid_data.csv')\n",
        "print(dataset5.dtypes)"
      ]
    },
    {
      "cell_type": "code",
      "execution_count": 774,
      "metadata": {
        "colab": {
          "base_uri": "https://localhost:8080/",
          "height": 423
        },
        "id": "7I2UeUU2FSYc",
        "outputId": "473197fa-5d2f-4f4c-f01d-d7ca77137403"
      },
      "outputs": [
        {
          "output_type": "execute_result",
          "data": {
            "text/plain": [
              "     retail_and_recreation  grocery_and_pharmacy  residential  \\\n",
              "0                    0.667                 1.667        0.000   \n",
              "1                    0.500                 1.750        0.000   \n",
              "2                    0.400                 1.800        0.200   \n",
              "3                    0.500                 2.000        0.000   \n",
              "4                   -0.143                 1.714        0.714   \n",
              "..                     ...                   ...          ...   \n",
              "466                -61.714               -25.000       24.143   \n",
              "467                -61.286               -24.429       23.714   \n",
              "468                -61.143               -24.714       23.714   \n",
              "469                -60.143               -23.429       23.286   \n",
              "470                -58.714               -21.143       22.714   \n",
              "\n",
              "     transit_stations   parks  workplaces  new_cases_classes  \n",
              "0               2.000   3.000       3.000                  0  \n",
              "1               2.000   3.250       3.000                  0  \n",
              "2               1.800   2.800       3.200                  0  \n",
              "3               2.333   3.167       3.333                  0  \n",
              "4               1.429   3.571       0.143                  0  \n",
              "..                ...     ...         ...                ...  \n",
              "466           -49.143 -41.000     -45.429                200  \n",
              "467           -48.714 -40.000     -44.571                200  \n",
              "468           -49.000 -39.143     -44.286                201  \n",
              "469           -48.286 -38.000     -43.429                206  \n",
              "470           -47.000 -36.571     -42.429                207  \n",
              "\n",
              "[471 rows x 7 columns]"
            ],
            "text/html": [
              "\n",
              "  <div id=\"df-11288371-8864-439c-9a9b-4eb1357f3b91\">\n",
              "    <div class=\"colab-df-container\">\n",
              "      <div>\n",
              "<style scoped>\n",
              "    .dataframe tbody tr th:only-of-type {\n",
              "        vertical-align: middle;\n",
              "    }\n",
              "\n",
              "    .dataframe tbody tr th {\n",
              "        vertical-align: top;\n",
              "    }\n",
              "\n",
              "    .dataframe thead th {\n",
              "        text-align: right;\n",
              "    }\n",
              "</style>\n",
              "<table border=\"1\" class=\"dataframe\">\n",
              "  <thead>\n",
              "    <tr style=\"text-align: right;\">\n",
              "      <th></th>\n",
              "      <th>retail_and_recreation</th>\n",
              "      <th>grocery_and_pharmacy</th>\n",
              "      <th>residential</th>\n",
              "      <th>transit_stations</th>\n",
              "      <th>parks</th>\n",
              "      <th>workplaces</th>\n",
              "      <th>new_cases_classes</th>\n",
              "    </tr>\n",
              "  </thead>\n",
              "  <tbody>\n",
              "    <tr>\n",
              "      <th>0</th>\n",
              "      <td>0.667</td>\n",
              "      <td>1.667</td>\n",
              "      <td>0.000</td>\n",
              "      <td>2.000</td>\n",
              "      <td>3.000</td>\n",
              "      <td>3.000</td>\n",
              "      <td>0</td>\n",
              "    </tr>\n",
              "    <tr>\n",
              "      <th>1</th>\n",
              "      <td>0.500</td>\n",
              "      <td>1.750</td>\n",
              "      <td>0.000</td>\n",
              "      <td>2.000</td>\n",
              "      <td>3.250</td>\n",
              "      <td>3.000</td>\n",
              "      <td>0</td>\n",
              "    </tr>\n",
              "    <tr>\n",
              "      <th>2</th>\n",
              "      <td>0.400</td>\n",
              "      <td>1.800</td>\n",
              "      <td>0.200</td>\n",
              "      <td>1.800</td>\n",
              "      <td>2.800</td>\n",
              "      <td>3.200</td>\n",
              "      <td>0</td>\n",
              "    </tr>\n",
              "    <tr>\n",
              "      <th>3</th>\n",
              "      <td>0.500</td>\n",
              "      <td>2.000</td>\n",
              "      <td>0.000</td>\n",
              "      <td>2.333</td>\n",
              "      <td>3.167</td>\n",
              "      <td>3.333</td>\n",
              "      <td>0</td>\n",
              "    </tr>\n",
              "    <tr>\n",
              "      <th>4</th>\n",
              "      <td>-0.143</td>\n",
              "      <td>1.714</td>\n",
              "      <td>0.714</td>\n",
              "      <td>1.429</td>\n",
              "      <td>3.571</td>\n",
              "      <td>0.143</td>\n",
              "      <td>0</td>\n",
              "    </tr>\n",
              "    <tr>\n",
              "      <th>...</th>\n",
              "      <td>...</td>\n",
              "      <td>...</td>\n",
              "      <td>...</td>\n",
              "      <td>...</td>\n",
              "      <td>...</td>\n",
              "      <td>...</td>\n",
              "      <td>...</td>\n",
              "    </tr>\n",
              "    <tr>\n",
              "      <th>466</th>\n",
              "      <td>-61.714</td>\n",
              "      <td>-25.000</td>\n",
              "      <td>24.143</td>\n",
              "      <td>-49.143</td>\n",
              "      <td>-41.000</td>\n",
              "      <td>-45.429</td>\n",
              "      <td>200</td>\n",
              "    </tr>\n",
              "    <tr>\n",
              "      <th>467</th>\n",
              "      <td>-61.286</td>\n",
              "      <td>-24.429</td>\n",
              "      <td>23.714</td>\n",
              "      <td>-48.714</td>\n",
              "      <td>-40.000</td>\n",
              "      <td>-44.571</td>\n",
              "      <td>200</td>\n",
              "    </tr>\n",
              "    <tr>\n",
              "      <th>468</th>\n",
              "      <td>-61.143</td>\n",
              "      <td>-24.714</td>\n",
              "      <td>23.714</td>\n",
              "      <td>-49.000</td>\n",
              "      <td>-39.143</td>\n",
              "      <td>-44.286</td>\n",
              "      <td>201</td>\n",
              "    </tr>\n",
              "    <tr>\n",
              "      <th>469</th>\n",
              "      <td>-60.143</td>\n",
              "      <td>-23.429</td>\n",
              "      <td>23.286</td>\n",
              "      <td>-48.286</td>\n",
              "      <td>-38.000</td>\n",
              "      <td>-43.429</td>\n",
              "      <td>206</td>\n",
              "    </tr>\n",
              "    <tr>\n",
              "      <th>470</th>\n",
              "      <td>-58.714</td>\n",
              "      <td>-21.143</td>\n",
              "      <td>22.714</td>\n",
              "      <td>-47.000</td>\n",
              "      <td>-36.571</td>\n",
              "      <td>-42.429</td>\n",
              "      <td>207</td>\n",
              "    </tr>\n",
              "  </tbody>\n",
              "</table>\n",
              "<p>471 rows × 7 columns</p>\n",
              "</div>\n",
              "      <button class=\"colab-df-convert\" onclick=\"convertToInteractive('df-11288371-8864-439c-9a9b-4eb1357f3b91')\"\n",
              "              title=\"Convert this dataframe to an interactive table.\"\n",
              "              style=\"display:none;\">\n",
              "        \n",
              "  <svg xmlns=\"http://www.w3.org/2000/svg\" height=\"24px\"viewBox=\"0 0 24 24\"\n",
              "       width=\"24px\">\n",
              "    <path d=\"M0 0h24v24H0V0z\" fill=\"none\"/>\n",
              "    <path d=\"M18.56 5.44l.94 2.06.94-2.06 2.06-.94-2.06-.94-.94-2.06-.94 2.06-2.06.94zm-11 1L8.5 8.5l.94-2.06 2.06-.94-2.06-.94L8.5 2.5l-.94 2.06-2.06.94zm10 10l.94 2.06.94-2.06 2.06-.94-2.06-.94-.94-2.06-.94 2.06-2.06.94z\"/><path d=\"M17.41 7.96l-1.37-1.37c-.4-.4-.92-.59-1.43-.59-.52 0-1.04.2-1.43.59L10.3 9.45l-7.72 7.72c-.78.78-.78 2.05 0 2.83L4 21.41c.39.39.9.59 1.41.59.51 0 1.02-.2 1.41-.59l7.78-7.78 2.81-2.81c.8-.78.8-2.07 0-2.86zM5.41 20L4 18.59l7.72-7.72 1.47 1.35L5.41 20z\"/>\n",
              "  </svg>\n",
              "      </button>\n",
              "      \n",
              "  <style>\n",
              "    .colab-df-container {\n",
              "      display:flex;\n",
              "      flex-wrap:wrap;\n",
              "      gap: 12px;\n",
              "    }\n",
              "\n",
              "    .colab-df-convert {\n",
              "      background-color: #E8F0FE;\n",
              "      border: none;\n",
              "      border-radius: 50%;\n",
              "      cursor: pointer;\n",
              "      display: none;\n",
              "      fill: #1967D2;\n",
              "      height: 32px;\n",
              "      padding: 0 0 0 0;\n",
              "      width: 32px;\n",
              "    }\n",
              "\n",
              "    .colab-df-convert:hover {\n",
              "      background-color: #E2EBFA;\n",
              "      box-shadow: 0px 1px 2px rgba(60, 64, 67, 0.3), 0px 1px 3px 1px rgba(60, 64, 67, 0.15);\n",
              "      fill: #174EA6;\n",
              "    }\n",
              "\n",
              "    [theme=dark] .colab-df-convert {\n",
              "      background-color: #3B4455;\n",
              "      fill: #D2E3FC;\n",
              "    }\n",
              "\n",
              "    [theme=dark] .colab-df-convert:hover {\n",
              "      background-color: #434B5C;\n",
              "      box-shadow: 0px 1px 3px 1px rgba(0, 0, 0, 0.15);\n",
              "      filter: drop-shadow(0px 1px 2px rgba(0, 0, 0, 0.3));\n",
              "      fill: #FFFFFF;\n",
              "    }\n",
              "  </style>\n",
              "\n",
              "      <script>\n",
              "        const buttonEl =\n",
              "          document.querySelector('#df-11288371-8864-439c-9a9b-4eb1357f3b91 button.colab-df-convert');\n",
              "        buttonEl.style.display =\n",
              "          google.colab.kernel.accessAllowed ? 'block' : 'none';\n",
              "\n",
              "        async function convertToInteractive(key) {\n",
              "          const element = document.querySelector('#df-11288371-8864-439c-9a9b-4eb1357f3b91');\n",
              "          const dataTable =\n",
              "            await google.colab.kernel.invokeFunction('convertToInteractive',\n",
              "                                                     [key], {});\n",
              "          if (!dataTable) return;\n",
              "\n",
              "          const docLinkHtml = 'Like what you see? Visit the ' +\n",
              "            '<a target=\"_blank\" href=https://colab.research.google.com/notebooks/data_table.ipynb>data table notebook</a>'\n",
              "            + ' to learn more about interactive tables.';\n",
              "          element.innerHTML = '';\n",
              "          dataTable['output_type'] = 'display_data';\n",
              "          await google.colab.output.renderOutput(dataTable, element);\n",
              "          const docLink = document.createElement('div');\n",
              "          docLink.innerHTML = docLinkHtml;\n",
              "          element.appendChild(docLink);\n",
              "        }\n",
              "      </script>\n",
              "    </div>\n",
              "  </div>\n",
              "  "
            ]
          },
          "metadata": {},
          "execution_count": 774
        }
      ],
      "source": [
        "dataset5"
      ]
    },
    {
      "cell_type": "code",
      "execution_count": 775,
      "metadata": {
        "id": "qqA7Vf48FSYc"
      },
      "outputs": [],
      "source": [
        "root = build_tree(dataset5)"
      ]
    },
    {
      "cell_type": "code",
      "execution_count": 776,
      "metadata": {
        "colab": {
          "base_uri": "https://localhost:8080/"
        },
        "id": "pA2mCqocFSYc",
        "outputId": "31141bf9-45d0-43f3-af4e-3724528dfa13"
      },
      "outputs": [
        {
          "output_type": "stream",
          "name": "stdout",
          "text": [
            " [4.9285, 'grocery_and_pharmacy'] [None, None]\n",
            "-->  [-47.6425, 'parks'] [None, None]\n",
            "--> -->  [-69.5715, 'retail_and_recreation'] [None, None]\n",
            "--> --> -->  [-45.0715, 'grocery_and_pharmacy'] [None, None]\n",
            "--> --> --> -->  (0, 1.0)\n",
            "--> --> --> -->  [-77.643, 'retail_and_recreation'] [None, None]\n",
            "--> --> --> --> -->  (1, 1.0)\n",
            "--> --> --> --> -->  [-73.786, 'retail_and_recreation'] [None, None]\n",
            "--> --> --> --> --> -->  (2, 1.0)\n",
            "--> --> --> --> --> -->  (3, 1.0)\n",
            "--> --> -->  [-52.929, 'retail_and_recreation'] [None, None]\n",
            "--> --> --> -->  [-39.2145, 'transit_stations'] [None, None]\n",
            "--> --> --> --> -->  [-62.4285, 'retail_and_recreation'] [None, None]\n",
            "--> --> --> --> --> -->  (4, 1.0)\n",
            "--> --> --> --> --> -->  [-57.357, 'retail_and_recreation'] [None, None]\n",
            "--> --> --> --> --> --> -->  [-9.785499999999999, 'grocery_and_pharmacy'] [None, None]\n",
            "--> --> --> --> --> --> --> -->  [-60.714, 'retail_and_recreation'] [None, None]\n",
            "--> --> --> --> --> --> --> --> -->  (6, 0.75)\n",
            "--> --> --> --> --> --> --> --> -->  (7, 0.875)\n",
            "--> --> --> --> --> --> --> -->  (6, 1.0)\n",
            "--> --> --> --> --> --> -->  (7, 1.0)\n",
            "--> --> --> --> -->  [-59.2145, 'retail_and_recreation'] [None, None]\n",
            "--> --> --> --> --> -->  (4, 1.0)\n",
            "--> --> --> --> --> -->  (5, 1.0)\n",
            "--> --> --> -->  [-50.143, 'retail_and_recreation'] [None, None]\n",
            "--> --> --> --> -->  (8, 1.0)\n",
            "--> --> --> --> -->  (9, 1.0)\n",
            "--> -->  [-41.143, 'parks'] [None, None]\n",
            "--> --> -->  [-42.786, 'retail_and_recreation'] [None, None]\n",
            "--> --> --> -->  [-62.4285, 'retail_and_recreation'] [None, None]\n",
            "--> --> --> --> -->  [-64.7145, 'retail_and_recreation'] [None, None]\n",
            "--> --> --> --> --> -->  (174, 0.25)\n",
            "--> --> --> --> --> -->  (164, 0.125)\n",
            "--> --> --> --> -->  [-57.786, 'retail_and_recreation'] [None, None]\n",
            "--> --> --> --> --> -->  (138, 0.125)\n",
            "--> --> --> --> --> -->  (10, 0.75)\n",
            "--> --> --> -->  [0.0, 'grocery_and_pharmacy'] [None, None]\n",
            "--> --> --> --> -->  [-30.1425, 'transit_stations'] [None, None]\n",
            "--> --> --> --> --> -->  (11, 1.0)\n",
            "--> --> --> --> --> -->  (12, 1.0)\n",
            "--> --> --> --> -->  [-36.9285, 'retail_and_recreation'] [None, None]\n",
            "--> --> --> --> --> -->  (13, 1.0)\n",
            "--> --> --> --> --> -->  (14, 1.0)\n",
            "--> --> -->  [16.7855, 'residential'] [None, None]\n",
            "--> --> --> -->  [-26.857, 'retail_and_recreation'] [None, None]\n",
            "--> --> --> --> -->  [-31.5, 'retail_and_recreation'] [None, None]\n",
            "--> --> --> --> --> -->  (0, 1.0)\n",
            "--> --> --> --> --> -->  (30, 0.875)\n",
            "--> --> --> --> -->  (0, 1.0)\n",
            "--> --> --> -->  [20.9285, 'residential'] [None, None]\n",
            "--> --> --> --> -->  (0, 0.1111111111111111)\n",
            "--> --> --> --> -->  (129, 0.2)\n",
            "-->  [-17.0715, 'parks'] [None, None]\n",
            "--> -->  [-34.357, 'parks'] [None, None]\n",
            "--> --> -->  [10.9285, 'residential'] [None, None]\n",
            "--> --> --> -->  [-28.143, 'retail_and_recreation'] [None, None]\n",
            "--> --> --> --> -->  [-17.9285, 'transit_stations'] [None, None]\n",
            "--> --> --> --> --> -->  (18, 1.0)\n",
            "--> --> --> --> --> -->  (17, 1.0)\n",
            "--> --> --> --> -->  (19, 1.0)\n",
            "--> --> --> -->  [-20.5, 'workplaces'] [None, None]\n",
            "--> --> --> --> -->  (16, 0.5)\n",
            "--> --> --> --> -->  (15, 1.0)\n",
            "--> --> -->  [-19.714, 'parks'] [None, None]\n",
            "--> --> --> -->  [-24.643, 'workplaces'] [None, None]\n",
            "--> --> --> --> -->  [-32.0, 'parks'] [None, None]\n",
            "--> --> --> --> --> -->  (20, 1.0)\n",
            "--> --> --> --> --> -->  (21, 0.375)\n",
            "--> --> --> --> -->  (22, 1.0)\n",
            "--> --> --> -->  [11.357, 'residential'] [None, None]\n",
            "--> --> --> --> -->  (23, 1.0)\n",
            "--> --> --> --> -->  [12.857, 'grocery_and_pharmacy'] [None, None]\n",
            "--> --> --> --> --> -->  (24, 1.0)\n",
            "--> --> --> --> --> -->  (76, 0.5)\n",
            "--> -->  [9.6425, 'residential'] [None, None]\n",
            "--> --> -->  [18.0715, 'grocery_and_pharmacy'] [None, None]\n",
            "--> --> --> -->  [-5.785500000000001, 'transit_stations'] [None, None]\n",
            "--> --> --> --> -->  [7.0715, 'residential'] [None, None]\n",
            "--> --> --> --> --> -->  (34, 0.75)\n",
            "--> --> --> --> --> -->  (32, 0.625)\n",
            "--> --> --> --> -->  [7.143, 'residential'] [None, None]\n",
            "--> --> --> --> --> -->  (37, 0.5)\n",
            "--> --> --> --> --> -->  (39, 1.0)\n",
            "--> --> --> -->  [7.714, 'residential'] [None, None]\n",
            "--> --> --> --> -->  (41, 0.5555555555555556)\n",
            "--> --> --> --> -->  [8.143, 'residential'] [None, None]\n",
            "--> --> --> --> --> -->  (43, 0.5)\n",
            "--> --> --> --> --> -->  (46, 0.6666666666666666)\n",
            "--> --> -->  [-9.0715, 'transit_stations'] [None, None]\n",
            "--> --> --> -->  [13.143, 'grocery_and_pharmacy'] [None, None]\n",
            "--> --> --> --> -->  [-11.6425, 'parks'] [None, None]\n",
            "--> --> --> --> --> -->  (28, 0.6666666666666666)\n",
            "--> --> --> --> --> -->  (31, 1.0)\n",
            "--> --> --> --> -->  [14.643, 'grocery_and_pharmacy'] [None, None]\n",
            "--> --> --> --> --> -->  (48, 1.0)\n",
            "--> --> --> --> --> -->  (47, 0.3333333333333333)\n",
            "--> --> --> -->  [-8.0715, 'transit_stations'] [None, None]\n",
            "--> --> --> --> -->  [-15.857, 'workplaces'] [None, None]\n",
            "--> --> --> --> --> -->  (25, 0.6)\n",
            "--> --> --> --> --> -->  (27, 0.875)\n",
            "--> --> --> --> -->  (26, 0.8888888888888888)\n"
          ]
        }
      ],
      "source": [
        "print_tree(root)"
      ]
    },
    {
      "cell_type": "code",
      "execution_count": 776,
      "metadata": {
        "id": "MLKgHiQqFSYc"
      },
      "outputs": [],
      "source": [
        ""
      ]
    },
    {
      "cell_type": "code",
      "execution_count": 776,
      "metadata": {
        "id": "GYr67y7LFSYd"
      },
      "outputs": [],
      "source": [
        ""
      ]
    }
  ],
  "metadata": {
    "colab": {
      "collapsed_sections": [],
      "name": "ML_lab_1_example.ipynb",
      "provenance": []
    },
    "interpreter": {
      "hash": "4ae141d93f6337e9a20a8395b8018e64e99a1e5c84b295f1c46fe5520871454d"
    },
    "kernelspec": {
      "display_name": "'Python Interactive'",
      "language": "python",
      "name": "python3"
    },
    "language_info": {
      "codemirror_mode": {
        "name": "ipython",
        "version": 3
      },
      "file_extension": ".py",
      "mimetype": "text/x-python",
      "name": "python",
      "nbconvert_exporter": "python",
      "pygments_lexer": "ipython3",
      "version": "3.8.5"
    }
  },
  "nbformat": 4,
  "nbformat_minor": 0
}