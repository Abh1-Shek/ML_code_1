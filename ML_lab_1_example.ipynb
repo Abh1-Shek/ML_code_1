{
  "cells": [
    {
      "cell_type": "code",
      "execution_count": 1650,
      "metadata": {
        "id": "jSMWxblgZIUO"
      },
      "outputs": [],
      "source": [
        "# importing packages\n",
        "import math\n",
        "import numpy as np\n",
        "import pandas as pd"
      ]
    },
    {
      "cell_type": "code",
      "execution_count": 1651,
      "metadata": {
        "id": "olU2Ae2vZIUb"
      },
      "outputs": [],
      "source": [
        "# helper function for getting probability from frequency table\n",
        "# this function is used in get_entropy()\n",
        "def get_probability(event_info):\n",
        "  SUM = sum(event_info)\n",
        "  for i in range(len(event_info)):\n",
        "        event_info[i] /= SUM\n",
        "  return event_info\n",
        "\n",
        "\n",
        "# this function gets entropy from frequency table\n",
        "def get_entropy(event_info):\n",
        "  probabilities = get_probability(event_info)\n",
        "  # print('probabilities', probabilities)\n",
        "  entropy = 0.0\n",
        "  for p in probabilities:\n",
        "    if p != 0:\n",
        "      entropy += p * math.log(1 / p) / math.log(2)\n",
        "  return entropy\n",
        "\n",
        "# this function gets gini impurity from frequency table\n",
        "def get_gini_impurity(event_info):\n",
        "  probabilities = get_probability(event_info)\n",
        "  # print('probabilities', probabilities)\n",
        "  imp = 0.0\n",
        "  for p in probabilities:\n",
        "    if p != 0:\n",
        "      imp += p * (1.0 - p)\n",
        "  return imp\n"
      ]
    },
    {
      "cell_type": "code",
      "execution_count": 1652,
      "metadata": {
        "id": "z067x_bdZIUe"
      },
      "outputs": [],
      "source": [
        "#this funtion sort table by column\n",
        "def sort_table_by_column(table, col):\n",
        "    return table.sort_values(by = [col]).reset_index(drop=True)"
      ]
    },
    {
      "cell_type": "code",
      "execution_count": 1653,
      "metadata": {},
      "outputs": [],
      "source": [
        "# for importing the dataset as a numpy array\n",
        "dataset1 = pd.read_csv(r\"covid_dataset.csv\")\n",
        "dataset1 = dataset1[dataset1['location'] == 'India']\n",
        "# dataset1 = dataset1.to_numpy()\n",
        "dataset2 = pd.read_csv(r\"changes-visitors-covid.csv\")\n",
        "dataset2 = dataset2[dataset2['Entity'] == 'India']\n",
        "# dataset2 = dataset2.to_numpy()\n",
        "dataset3 = pd.read_csv(r'continuous_attribute_table.csv')\n",
        "dataset4 = pd.read_csv(r'pure_category.csv')"
      ]
    },
    {
      "cell_type": "code",
      "execution_count": 1654,
      "metadata": {},
      "outputs": [],
      "source": [
        "dataset = pd.merge(dataset1, dataset2, on = 'date', how = 'inner')"
      ]
    },
    {
      "cell_type": "code",
      "execution_count": 1655,
      "metadata": {
        "id": "X2ZxAmij0lYN"
      },
      "outputs": [],
      "source": [
        "example_dataset = dataset1 = pd.read_csv(r\"example_data.csv\")"
      ]
    },
    {
      "cell_type": "code",
      "execution_count": 1656,
      "metadata": {
        "colab": {
          "base_uri": "https://localhost:8080/"
        },
        "id": "KfXU0JpnZIUr",
        "outputId": "8028e3e2-181a-4fb8-9586-342564df58c7"
      },
      "outputs": [
        {
          "name": "stdout",
          "output_type": "stream",
          "text": [
            "  Outlook  Value Company Sailboat target\n",
            "0   sunny    100     big    small    yes\n",
            "1   sunny    200     med    small    yes\n",
            "2   sunny    300     med      big    yes\n",
            "3   sunny    400      no    small    yes\n",
            "4   sunny    500     big      big    yes\n",
            "5   rainy     10      no    small     no\n",
            "6   rainy    500     med    small    yes\n",
            "7   rainy    510     big      big    yes\n",
            "8   rainy     12      no      big     no\n",
            "9   rainy      9     med      big     no\n"
          ]
        }
      ],
      "source": [
        "print(example_dataset)"
      ]
    },
    {
      "cell_type": "code",
      "execution_count": 1657,
      "metadata": {
        "id": "14rFwiubcfP1"
      },
      "outputs": [],
      "source": [
        "def split_dataset_wrt_column(dataset, column_name):\n",
        "  unique_items = dataset[column_name].unique()\n",
        "  tables = []\n",
        "  for item in unique_items:\n",
        "    tables.append(dataset[dataset[column_name] == item])\n",
        "  return tables"
      ]
    },
    {
      "cell_type": "code",
      "execution_count": 1658,
      "metadata": {
        "id": "WT5mBi9bitUH"
      },
      "outputs": [],
      "source": [
        "def get_count(table, target_column, class_name):\n",
        "  # print(class_name)\n",
        "  # ans =  (table[target_column] == class_name).shape[0]\n",
        "  ans = (table[target_column] == class_name).sum()\n",
        "  # print (ans)\n",
        "  return ans"
      ]
    },
    {
      "cell_type": "code",
      "execution_count": 1659,
      "metadata": {
        "id": "_GkSt7uXhvQu"
      },
      "outputs": [],
      "source": [
        "def get_entropy_from_table(table, target_column):\n",
        "  unique_classes = table[target_column].unique()\n",
        "  # print(unique_classes)\n",
        "  counts = []\n",
        "  for class_name in unique_classes:\n",
        "    counts.append(get_count(table,target_column, class_name))\n",
        "  # print(\"Count is \", counts)\n",
        "  return get_entropy(counts)    # write get_gini_impurity if you want to change the parameter to gini imp from entropy\n",
        "  "
      ]
    },
    {
      "cell_type": "code",
      "execution_count": 1660,
      "metadata": {
        "id": "0GeFnIU6gGeC"
      },
      "outputs": [],
      "source": [
        "# this function returns the information gain of the column \"column\" when the target column is \"target_column\" of the table dataset\n",
        "# only for categorical column or attribute\n",
        "def get_information_gain(dataset, column, target_column):\n",
        "  tables = []\n",
        "  size_table = []\n",
        "  overall_size = dataset.shape[0]\n",
        "  for table in split_dataset_wrt_column(dataset, column):\n",
        "    tables.append(table)\n",
        "    size_table.append(table.shape[0])\n",
        "  entropies = []\n",
        "  for table in tables:\n",
        "    # print(table)\n",
        "    entropies.append(get_entropy_from_table(table, target_column))\n",
        "  # print(\"entropies=\", entropies)\n",
        "  # entropies = [get_entropy_from_table(table, target_column) for table in tables]\n",
        "  # print(entropies)\n",
        "  entropy_initial = get_entropy_from_table(dataset, target_column)    # entropy without splitting\n",
        "  # print(\"entropy_intial=\",entropy_initial)\n",
        "  entropy = sum([(size / overall_size) * entropyi for size, entropyi in zip(size_table, entropies)])  # entropy after splitting\n",
        "  return (entropy_initial - entropy)\n"
      ]
    },
    {
      "cell_type": "code",
      "execution_count": 1661,
      "metadata": {
        "colab": {
          "base_uri": "https://localhost:8080/",
          "height": 502
        },
        "id": "nwdChokGjfGR",
        "outputId": "8cd86971-c26a-4981-bdf6-a8cf0b382329"
      },
      "outputs": [
        {
          "data": {
            "text/plain": [
              "0.034851554559677034"
            ]
          },
          "execution_count": 1661,
          "metadata": {},
          "output_type": "execute_result"
        }
      ],
      "source": [
        "get_information_gain(example_dataset, 'Sailboat', 'target')"
      ]
    },
    {
      "cell_type": "code",
      "execution_count": 1662,
      "metadata": {},
      "outputs": [],
      "source": [
        "def max_index(arr):\n",
        "    index = 0\n",
        "    mx = arr[0]\n",
        "    for i in range(len(arr)):\n",
        "        if mx < arr[i]:\n",
        "            index = i\n",
        "            mx = arr[i]\n",
        "    return index\n"
      ]
    },
    {
      "cell_type": "code",
      "execution_count": 1663,
      "metadata": {
        "id": "EWxhZSY7nRQL"
      },
      "outputs": [
        {
          "data": {
            "text/plain": [
              "0.034851554559677034"
            ]
          },
          "execution_count": 1663,
          "metadata": {},
          "output_type": "execute_result"
        }
      ],
      "source": [
        "get_information_gain(example_dataset, 'Sailboat', 'target')"
      ]
    },
    {
      "cell_type": "code",
      "execution_count": 1664,
      "metadata": {},
      "outputs": [],
      "source": [
        "def get_value_with_min_entropy_wrt_continuous_column(table, column, target_column):\n",
        "    # step 1: sort the table\n",
        "    new_table = sort_table_by_column(table, column)\n",
        "    # print(new_table)\n",
        "    # step 2: get various averages\n",
        "    avg_array = []\n",
        "    length_new_table = len(new_table)\n",
        "    for i in range(length_new_table - 1):\n",
        "        avg_array.append((new_table.at[i,column] + new_table.at[i + 1, column]) / 2)\n",
        "    \n",
        "    # print(avg_array)\n",
        "    # step 3: count before and after averages\n",
        "    IGs = []\n",
        "    parentIG = get_entropy_from_table(new_table, target_column)\n",
        "    for i in range(length_new_table - 1):\n",
        "        table1 = new_table.iloc[:i + 1,:]\n",
        "        table2 = new_table.iloc[i + 1:, :]\n",
        "        # print('Table 1')\n",
        "        # print(table1)\n",
        "        # print('Table 2')\n",
        "        # print(table2)\n",
        "        E1 = get_entropy_from_table(table1, target_column)\n",
        "        E2 = get_entropy_from_table(table2, target_column)\n",
        "        # print('E1=',E1, 'E2=', E2)\n",
        "        E = (len(table1) / len(table)) * E1 + (len(table2) / len(table)) * E2\n",
        "        IG = parentIG - E\n",
        "        IGs.append(IG)\n",
        "    # print(IGs)\n",
        "    if(len(avg_array) == 0):\n",
        "        IGs = [0]\n",
        "        avg_array = [0]\n",
        "    index = max_index(IGs)\n",
        "    \n",
        "    return avg_array[index], IGs[index]  # split wrt value, IG according to that value\n",
        "    # step 4: calculate the entropy wrt each average\n",
        "    # step 5: determine the best split with most information gain\n",
        "    "
      ]
    },
    {
      "cell_type": "code",
      "execution_count": 1665,
      "metadata": {},
      "outputs": [
        {
          "data": {
            "text/plain": [
              "(205.0, 0.41997309402197514)"
            ]
          },
          "execution_count": 1665,
          "metadata": {},
          "output_type": "execute_result"
        }
      ],
      "source": [
        "get_value_with_min_entropy_wrt_continuous_column(dataset3, 'Weight', 'Heart_disease')"
      ]
    },
    {
      "cell_type": "code",
      "execution_count": 1666,
      "metadata": {},
      "outputs": [
        {
          "data": {
            "text/html": [
              "<div>\n",
              "<style scoped>\n",
              "    .dataframe tbody tr th:only-of-type {\n",
              "        vertical-align: middle;\n",
              "    }\n",
              "\n",
              "    .dataframe tbody tr th {\n",
              "        vertical-align: top;\n",
              "    }\n",
              "\n",
              "    .dataframe thead th {\n",
              "        text-align: right;\n",
              "    }\n",
              "</style>\n",
              "<table border=\"1\" class=\"dataframe\">\n",
              "  <thead>\n",
              "    <tr style=\"text-align: right;\">\n",
              "      <th></th>\n",
              "      <th>Weight</th>\n",
              "      <th>Heart_disease</th>\n",
              "    </tr>\n",
              "  </thead>\n",
              "  <tbody>\n",
              "    <tr>\n",
              "      <th>0</th>\n",
              "      <td>155</td>\n",
              "      <td>No</td>\n",
              "    </tr>\n",
              "    <tr>\n",
              "      <th>1</th>\n",
              "      <td>190</td>\n",
              "      <td>No</td>\n",
              "    </tr>\n",
              "    <tr>\n",
              "      <th>2</th>\n",
              "      <td>220</td>\n",
              "      <td>Yes</td>\n",
              "    </tr>\n",
              "    <tr>\n",
              "      <th>3</th>\n",
              "      <td>225</td>\n",
              "      <td>Yes</td>\n",
              "    </tr>\n",
              "    <tr>\n",
              "      <th>4</th>\n",
              "      <td>180</td>\n",
              "      <td>Yes</td>\n",
              "    </tr>\n",
              "  </tbody>\n",
              "</table>\n",
              "</div>"
            ],
            "text/plain": [
              "   Weight Heart_disease\n",
              "0     155            No\n",
              "1     190            No\n",
              "2     220           Yes\n",
              "3     225           Yes\n",
              "4     180           Yes"
            ]
          },
          "execution_count": 1666,
          "metadata": {},
          "output_type": "execute_result"
        }
      ],
      "source": [
        "dataset3"
      ]
    },
    {
      "cell_type": "code",
      "execution_count": 1667,
      "metadata": {},
      "outputs": [],
      "source": [
        "#This function returns the best column for the split\n",
        "def get_best_column (table, target_column, is_categorical):\n",
        "    values = []\n",
        "    # is_categorical is an array which is true if the data is categorical and false if continuous\n",
        "    IGs = []\n",
        "    for index,column in enumerate(table):\n",
        "        if(column == target_column):\n",
        "            break\n",
        "        # print(column,index)\n",
        "        if(is_categorical[index] == 1):\n",
        "            values.append(None)\n",
        "            IGs.append(get_information_gain(table, column, target_column))\n",
        "        else:\n",
        "            #value is the value at which the splitting occurs in the column and IG is the corresponding Info gain\n",
        "            value, IG = get_value_with_min_entropy_wrt_continuous_column(table,column,target_column)\n",
        "            values.append(value)\n",
        "            # print(value)\n",
        "            IGs.append(IG)\n",
        "    selected_index = max_index(IGs)\n",
        "    if(is_categorical[selected_index]):\n",
        "        return selected_index, table.columns[selected_index], None, IGs[selected_index]\n",
        "    else:\n",
        "        return selected_index, table.columns[selected_index],values[selected_index], IGs[selected_index]\n",
        "\n"
      ]
    },
    {
      "cell_type": "code",
      "execution_count": 1668,
      "metadata": {},
      "outputs": [
        {
          "data": {
            "text/plain": [
              "(1, 'Value', 56.0, 0.8812908992306927)"
            ]
          },
          "execution_count": 1668,
          "metadata": {},
          "output_type": "execute_result"
        }
      ],
      "source": [
        "get_best_column(example_dataset, 'target', [1,0,1,1])"
      ]
    },
    {
      "cell_type": "code",
      "execution_count": 1669,
      "metadata": {},
      "outputs": [],
      "source": [
        "def split_table_wrt_value(table,value,column):\n",
        "    table1 = table[table[column] <= value]\n",
        "    table2 = table[table[column] > value]\n",
        "    return table1,table2"
      ]
    },
    {
      "cell_type": "code",
      "execution_count": 1670,
      "metadata": {},
      "outputs": [
        {
          "name": "stdout",
          "output_type": "stream",
          "text": [
            "  Outlook  Value Company Sailboat target\n",
            "5   rainy     10      no    small     no\n",
            "8   rainy     12      no      big     no\n",
            "9   rainy      9     med      big     no\n",
            "\n",
            "  Outlook  Value Company Sailboat target\n",
            "0   sunny    100     big    small    yes\n",
            "1   sunny    200     med    small    yes\n",
            "2   sunny    300     med      big    yes\n",
            "3   sunny    400      no    small    yes\n",
            "4   sunny    500     big      big    yes\n",
            "6   rainy    500     med    small    yes\n",
            "7   rainy    510     big      big    yes\n"
          ]
        }
      ],
      "source": [
        "table1, table2 = split_table_wrt_value(example_dataset,56.0,'Value')\n",
        "print(table1)\n",
        "print()\n",
        "print(table2)"
      ]
    },
    {
      "cell_type": "code",
      "execution_count": 1671,
      "metadata": {},
      "outputs": [],
      "source": [
        "class Node:\n",
        "    def __init__(self, condition, children, decisions):\n",
        "        self.condition = condition\n",
        "        self.children = children\n",
        "        self.decisions = decisions"
      ]
    },
    {
      "cell_type": "code",
      "execution_count": 1672,
      "metadata": {},
      "outputs": [],
      "source": [
        "class Leaf:\n",
        "    def __init__(self, leaf_value):\n",
        "        self.leaf_value = leaf_value\n",
        "        self.condition = \"THIS IS A LEAF NODE!!\"\n",
        "        "
      ]
    },
    {
      "cell_type": "code",
      "execution_count": 1673,
      "metadata": {},
      "outputs": [],
      "source": [
        "# this cell contains all the constants please beware\n",
        "THRESHOLD_VALUE = 0.0\n",
        "IS_CATEGORICAL = [1, 0, 0, 0, 0, 0, 0, 0]\n",
        "TARGET_COLUMN = \"new_cases_classes\""
      ]
    },
    {
      "cell_type": "code",
      "execution_count": 1674,
      "metadata": {},
      "outputs": [],
      "source": [
        "# returns the value and probability for the leaf which have maximum probability\n",
        "def get_value_for_leaf(table, target_column):\n",
        "    freq = dict()\n",
        "    unique_classes = table[target_column].unique()\n",
        "    for class_name in unique_classes:\n",
        "        freq[class_name] = 0\n",
        "    for index, row in table.iterrows():\n",
        "        freq[row[target_column]] += 1\n",
        "    mx = 0\n",
        "    value = None\n",
        "    sum_of_freq = 0.0\n",
        "    for class_name, freq_of_class in freq.items():\n",
        "        sum_of_freq += freq_of_class\n",
        "        if mx < freq_of_class:\n",
        "            mx = freq_of_class\n",
        "            value = class_name\n",
        "    return value, mx / sum_of_freq"
      ]
    },
    {
      "cell_type": "code",
      "execution_count": 1675,
      "metadata": {},
      "outputs": [],
      "source": [
        "def build_tree(table):\n",
        "    # step1 find the best split\n",
        "    selected_index, column_name, value, best_IG = get_best_column(table, TARGET_COLUMN, IS_CATEGORICAL)\n",
        "    tables = []\n",
        "    decisions = []\n",
        "    condition = None\n",
        "    # categorical value\n",
        "    if value == None:\n",
        "        tables = split_dataset_wrt_column(table, column_name)\n",
        "        start_index = 0\n",
        "        for splited_table in tables:\n",
        "            decisions.append(splited_table.iloc[0][column_name])\n",
        "            start_index += len(splited_table)\n",
        "        condition = column_name\n",
        "    # Continuous Value\n",
        "    else:\n",
        "        table1, table2 = split_table_wrt_value(table, value, column_name)\n",
        "        tables.append(table1)\n",
        "        tables.append(table2)\n",
        "        decisions = [None,None]\n",
        "        condition = [value, column_name]\n",
        "    # put some base condition\n",
        "    if best_IG <= THRESHOLD_VALUE:\n",
        "        return Leaf(get_value_for_leaf(table, TARGET_COLUMN))\n",
        "    # make tree for each child\n",
        "    children = []\n",
        "    for table in tables:\n",
        "        child = build_tree(table)\n",
        "        children.append(child)\n",
        "    # return the current node which is already linked to its children so that current node's parent can link current node\n",
        "    return Node(condition, children,decisions)"
      ]
    },
    {
      "cell_type": "code",
      "execution_count": 1676,
      "metadata": {},
      "outputs": [],
      "source": [
        "# root = build_tree(example_dataset) # before running this cell change the IS_CATEGORICAL array"
      ]
    },
    {
      "cell_type": "code",
      "execution_count": 1677,
      "metadata": {},
      "outputs": [],
      "source": [
        "# print(root.condition)\n",
        "# for child in root.children:\n",
        "#     print(child.condition)\n",
        "#     if (child.condition == \"THIS IS A LEAF NODE!!\"):\n",
        "#         print(child.leaf_value)"
      ]
    },
    {
      "cell_type": "code",
      "execution_count": 1678,
      "metadata": {},
      "outputs": [],
      "source": [
        "# root = build_tree(dataset4)"
      ]
    },
    {
      "cell_type": "code",
      "execution_count": 1679,
      "metadata": {},
      "outputs": [],
      "source": [
        "# print(root.condition)\n",
        "# for child in root.children:\n",
        "#     print(child.condition)\n",
        "#     if (child.condition == \"THIS IS A LEAF NODE!!\"):\n",
        "#         print(child.leaf_value)"
      ]
    },
    {
      "cell_type": "code",
      "execution_count": 1680,
      "metadata": {},
      "outputs": [],
      "source": [
        "\n",
        "def print_tree(root, spacing=\"\"):\n",
        "    if isinstance(root, Leaf):\n",
        "        print(spacing, root.leaf_value)\n",
        "        return\n",
        "    print(spacing, root.condition,root.decisions)\n",
        "    for child in root.children:\n",
        "        print_tree(child,spacing+\"--> \")\n",
        "\n",
        "    \n",
        "    "
      ]
    },
    {
      "cell_type": "code",
      "execution_count": 1681,
      "metadata": {},
      "outputs": [],
      "source": [
        "# print_tree(root)"
      ]
    },
    {
      "cell_type": "code",
      "execution_count": 1682,
      "metadata": {},
      "outputs": [],
      "source": [
        "def find_index(arr,x):\n",
        "    for i in range (len(arr)):\n",
        "        if(arr[i] == x):\n",
        "            return i"
      ]
    },
    {
      "cell_type": "code",
      "execution_count": 1683,
      "metadata": {},
      "outputs": [],
      "source": [
        "def predict(row,root):\n",
        "    #base case\n",
        "    if(isinstance(root,Leaf)):\n",
        "        return root.leaf_value\n",
        "    value_to_check = row.at[0, root.condition]\n",
        "    child_index = find_index(root.decisions, value_to_check)\n",
        "    return predict(row, root.children[child_index])\n",
        "\n",
        "        \n"
      ]
    },
    {
      "cell_type": "code",
      "execution_count": 1684,
      "metadata": {},
      "outputs": [],
      "source": [
        "# test_data = pd.DataFrame({\n",
        "#     'Outlook': ['rainy'],\n",
        "#     'Company': ['big'],\n",
        "#     'Sailboat': ['small']\n",
        "# })"
      ]
    },
    {
      "cell_type": "code",
      "execution_count": 1685,
      "metadata": {},
      "outputs": [],
      "source": [
        "# print(predict(test_data, root))"
      ]
    },
    {
      "cell_type": "code",
      "execution_count": 1686,
      "metadata": {},
      "outputs": [],
      "source": [
        "dataset5 = pd.read_csv(r'processed_covid_data.csv')[300:320]"
      ]
    },
    {
      "cell_type": "code",
      "execution_count": 1687,
      "metadata": {},
      "outputs": [
        {
          "data": {
            "text/html": [
              "<div>\n",
              "<style scoped>\n",
              "    .dataframe tbody tr th:only-of-type {\n",
              "        vertical-align: middle;\n",
              "    }\n",
              "\n",
              "    .dataframe tbody tr th {\n",
              "        vertical-align: top;\n",
              "    }\n",
              "\n",
              "    .dataframe thead th {\n",
              "        text-align: right;\n",
              "    }\n",
              "</style>\n",
              "<table border=\"1\" class=\"dataframe\">\n",
              "  <thead>\n",
              "    <tr style=\"text-align: right;\">\n",
              "      <th></th>\n",
              "      <th>retail_and_recreation</th>\n",
              "      <th>grocery_and_pharmacy</th>\n",
              "      <th>residential</th>\n",
              "      <th>transit_stations</th>\n",
              "      <th>parks</th>\n",
              "      <th>workplaces</th>\n",
              "      <th>new_cases_classes</th>\n",
              "    </tr>\n",
              "  </thead>\n",
              "  <tbody>\n",
              "    <tr>\n",
              "      <th>300</th>\n",
              "      <td>-28.714</td>\n",
              "      <td>7.571</td>\n",
              "      <td>10.000</td>\n",
              "      <td>-12.000</td>\n",
              "      <td>-17.286</td>\n",
              "      <td>-19.857</td>\n",
              "      <td>46</td>\n",
              "    </tr>\n",
              "    <tr>\n",
              "      <th>301</th>\n",
              "      <td>-29.143</td>\n",
              "      <td>7.286</td>\n",
              "      <td>10.571</td>\n",
              "      <td>-11.571</td>\n",
              "      <td>-17.571</td>\n",
              "      <td>-19.286</td>\n",
              "      <td>47</td>\n",
              "    </tr>\n",
              "    <tr>\n",
              "      <th>302</th>\n",
              "      <td>-28.143</td>\n",
              "      <td>9.286</td>\n",
              "      <td>10.571</td>\n",
              "      <td>-9.286</td>\n",
              "      <td>-16.714</td>\n",
              "      <td>-18.143</td>\n",
              "      <td>47</td>\n",
              "    </tr>\n",
              "    <tr>\n",
              "      <th>303</th>\n",
              "      <td>-28.429</td>\n",
              "      <td>9.143</td>\n",
              "      <td>11.143</td>\n",
              "      <td>-9.286</td>\n",
              "      <td>-17.143</td>\n",
              "      <td>-17.571</td>\n",
              "      <td>47</td>\n",
              "    </tr>\n",
              "    <tr>\n",
              "      <th>304</th>\n",
              "      <td>-28.714</td>\n",
              "      <td>9.000</td>\n",
              "      <td>11.571</td>\n",
              "      <td>-9.714</td>\n",
              "      <td>-17.714</td>\n",
              "      <td>-17.000</td>\n",
              "      <td>48</td>\n",
              "    </tr>\n",
              "    <tr>\n",
              "      <th>305</th>\n",
              "      <td>-28.714</td>\n",
              "      <td>9.143</td>\n",
              "      <td>11.714</td>\n",
              "      <td>-9.857</td>\n",
              "      <td>-18.000</td>\n",
              "      <td>-16.429</td>\n",
              "      <td>48</td>\n",
              "    </tr>\n",
              "    <tr>\n",
              "      <th>306</th>\n",
              "      <td>-28.571</td>\n",
              "      <td>9.286</td>\n",
              "      <td>11.714</td>\n",
              "      <td>-9.571</td>\n",
              "      <td>-18.000</td>\n",
              "      <td>-15.286</td>\n",
              "      <td>48</td>\n",
              "    </tr>\n",
              "    <tr>\n",
              "      <th>307</th>\n",
              "      <td>-28.429</td>\n",
              "      <td>9.429</td>\n",
              "      <td>11.714</td>\n",
              "      <td>-9.429</td>\n",
              "      <td>-17.857</td>\n",
              "      <td>-15.000</td>\n",
              "      <td>48</td>\n",
              "    </tr>\n",
              "    <tr>\n",
              "      <th>308</th>\n",
              "      <td>-28.143</td>\n",
              "      <td>9.857</td>\n",
              "      <td>11.714</td>\n",
              "      <td>-9.143</td>\n",
              "      <td>-17.571</td>\n",
              "      <td>-14.571</td>\n",
              "      <td>49</td>\n",
              "    </tr>\n",
              "    <tr>\n",
              "      <th>309</th>\n",
              "      <td>-28.143</td>\n",
              "      <td>9.571</td>\n",
              "      <td>11.714</td>\n",
              "      <td>-9.286</td>\n",
              "      <td>-17.714</td>\n",
              "      <td>-14.571</td>\n",
              "      <td>49</td>\n",
              "    </tr>\n",
              "    <tr>\n",
              "      <th>310</th>\n",
              "      <td>-27.857</td>\n",
              "      <td>9.857</td>\n",
              "      <td>11.714</td>\n",
              "      <td>-9.000</td>\n",
              "      <td>-17.571</td>\n",
              "      <td>-14.286</td>\n",
              "      <td>49</td>\n",
              "    </tr>\n",
              "    <tr>\n",
              "      <th>311</th>\n",
              "      <td>-27.286</td>\n",
              "      <td>10.714</td>\n",
              "      <td>11.429</td>\n",
              "      <td>-8.143</td>\n",
              "      <td>-17.000</td>\n",
              "      <td>-14.286</td>\n",
              "      <td>50</td>\n",
              "    </tr>\n",
              "    <tr>\n",
              "      <th>312</th>\n",
              "      <td>-26.429</td>\n",
              "      <td>11.143</td>\n",
              "      <td>11.714</td>\n",
              "      <td>-8.143</td>\n",
              "      <td>-15.429</td>\n",
              "      <td>-16.857</td>\n",
              "      <td>50</td>\n",
              "    </tr>\n",
              "    <tr>\n",
              "      <th>313</th>\n",
              "      <td>-26.571</td>\n",
              "      <td>10.571</td>\n",
              "      <td>11.857</td>\n",
              "      <td>-8.429</td>\n",
              "      <td>-14.857</td>\n",
              "      <td>-17.714</td>\n",
              "      <td>50</td>\n",
              "    </tr>\n",
              "    <tr>\n",
              "      <th>314</th>\n",
              "      <td>-26.714</td>\n",
              "      <td>9.857</td>\n",
              "      <td>11.714</td>\n",
              "      <td>-8.286</td>\n",
              "      <td>-14.429</td>\n",
              "      <td>-17.714</td>\n",
              "      <td>50</td>\n",
              "    </tr>\n",
              "    <tr>\n",
              "      <th>315</th>\n",
              "      <td>-26.571</td>\n",
              "      <td>9.714</td>\n",
              "      <td>11.714</td>\n",
              "      <td>-8.000</td>\n",
              "      <td>-14.143</td>\n",
              "      <td>-17.857</td>\n",
              "      <td>51</td>\n",
              "    </tr>\n",
              "    <tr>\n",
              "      <th>316</th>\n",
              "      <td>-26.571</td>\n",
              "      <td>9.714</td>\n",
              "      <td>11.714</td>\n",
              "      <td>-7.857</td>\n",
              "      <td>-13.857</td>\n",
              "      <td>-17.857</td>\n",
              "      <td>52</td>\n",
              "    </tr>\n",
              "    <tr>\n",
              "      <th>317</th>\n",
              "      <td>-26.571</td>\n",
              "      <td>9.571</td>\n",
              "      <td>11.714</td>\n",
              "      <td>-7.857</td>\n",
              "      <td>-13.571</td>\n",
              "      <td>-18.000</td>\n",
              "      <td>52</td>\n",
              "    </tr>\n",
              "    <tr>\n",
              "      <th>318</th>\n",
              "      <td>-25.714</td>\n",
              "      <td>10.429</td>\n",
              "      <td>11.714</td>\n",
              "      <td>-7.714</td>\n",
              "      <td>-13.143</td>\n",
              "      <td>-17.857</td>\n",
              "      <td>52</td>\n",
              "    </tr>\n",
              "    <tr>\n",
              "      <th>319</th>\n",
              "      <td>-25.857</td>\n",
              "      <td>9.714</td>\n",
              "      <td>11.571</td>\n",
              "      <td>-7.857</td>\n",
              "      <td>-12.857</td>\n",
              "      <td>-16.857</td>\n",
              "      <td>52</td>\n",
              "    </tr>\n",
              "  </tbody>\n",
              "</table>\n",
              "</div>"
            ],
            "text/plain": [
              "     retail_and_recreation  grocery_and_pharmacy  residential  \\\n",
              "300                -28.714                 7.571       10.000   \n",
              "301                -29.143                 7.286       10.571   \n",
              "302                -28.143                 9.286       10.571   \n",
              "303                -28.429                 9.143       11.143   \n",
              "304                -28.714                 9.000       11.571   \n",
              "305                -28.714                 9.143       11.714   \n",
              "306                -28.571                 9.286       11.714   \n",
              "307                -28.429                 9.429       11.714   \n",
              "308                -28.143                 9.857       11.714   \n",
              "309                -28.143                 9.571       11.714   \n",
              "310                -27.857                 9.857       11.714   \n",
              "311                -27.286                10.714       11.429   \n",
              "312                -26.429                11.143       11.714   \n",
              "313                -26.571                10.571       11.857   \n",
              "314                -26.714                 9.857       11.714   \n",
              "315                -26.571                 9.714       11.714   \n",
              "316                -26.571                 9.714       11.714   \n",
              "317                -26.571                 9.571       11.714   \n",
              "318                -25.714                10.429       11.714   \n",
              "319                -25.857                 9.714       11.571   \n",
              "\n",
              "     transit_stations   parks  workplaces  new_cases_classes  \n",
              "300           -12.000 -17.286     -19.857                 46  \n",
              "301           -11.571 -17.571     -19.286                 47  \n",
              "302            -9.286 -16.714     -18.143                 47  \n",
              "303            -9.286 -17.143     -17.571                 47  \n",
              "304            -9.714 -17.714     -17.000                 48  \n",
              "305            -9.857 -18.000     -16.429                 48  \n",
              "306            -9.571 -18.000     -15.286                 48  \n",
              "307            -9.429 -17.857     -15.000                 48  \n",
              "308            -9.143 -17.571     -14.571                 49  \n",
              "309            -9.286 -17.714     -14.571                 49  \n",
              "310            -9.000 -17.571     -14.286                 49  \n",
              "311            -8.143 -17.000     -14.286                 50  \n",
              "312            -8.143 -15.429     -16.857                 50  \n",
              "313            -8.429 -14.857     -17.714                 50  \n",
              "314            -8.286 -14.429     -17.714                 50  \n",
              "315            -8.000 -14.143     -17.857                 51  \n",
              "316            -7.857 -13.857     -17.857                 52  \n",
              "317            -7.857 -13.571     -18.000                 52  \n",
              "318            -7.714 -13.143     -17.857                 52  \n",
              "319            -7.857 -12.857     -16.857                 52  "
            ]
          },
          "execution_count": 1687,
          "metadata": {},
          "output_type": "execute_result"
        }
      ],
      "source": [
        "dataset5"
      ]
    },
    {
      "cell_type": "code",
      "execution_count": 1688,
      "metadata": {},
      "outputs": [],
      "source": [
        "root = build_tree(dataset5)"
      ]
    },
    {
      "cell_type": "code",
      "execution_count": 1689,
      "metadata": {},
      "outputs": [
        {
          "name": "stdout",
          "output_type": "stream",
          "text": [
            " retail_and_recreation [-28.714, -29.143, -28.143, -28.429, -28.571, -27.857, -27.286, -26.429, -26.571, -26.714, -25.714, -25.857]\n",
            "-->  [8.285499999999999, 'grocery_and_pharmacy'] [None, None]\n",
            "--> -->  (46, 1.0)\n",
            "--> -->  (48, 1.0)\n",
            "-->  (47, 1.0)\n",
            "-->  [9.4285, 'grocery_and_pharmacy'] [None, None]\n",
            "--> -->  (47, 1.0)\n",
            "--> -->  (49, 1.0)\n",
            "-->  [9.286000000000001, 'grocery_and_pharmacy'] [None, None]\n",
            "--> -->  (47, 1.0)\n",
            "--> -->  (48, 1.0)\n",
            "-->  (48, 1.0)\n",
            "-->  (49, 1.0)\n",
            "-->  (50, 1.0)\n",
            "-->  (50, 1.0)\n",
            "-->  [-7.9285, 'transit_stations'] [None, None]\n",
            "--> -->  [10.1425, 'grocery_and_pharmacy'] [None, None]\n",
            "--> --> -->  (51, 1.0)\n",
            "--> --> -->  (50, 1.0)\n",
            "--> -->  (52, 1.0)\n",
            "-->  (50, 1.0)\n",
            "-->  (52, 1.0)\n",
            "-->  (52, 1.0)\n"
          ]
        }
      ],
      "source": [
        "print_tree(root)"
      ]
    },
    {
      "cell_type": "code",
      "execution_count": null,
      "metadata": {},
      "outputs": [],
      "source": []
    },
    {
      "cell_type": "code",
      "execution_count": null,
      "metadata": {},
      "outputs": [],
      "source": []
    }
  ],
  "metadata": {
    "colab": {
      "collapsed_sections": [],
      "name": "ML_lab_1.ipynb",
      "provenance": []
    },
    "interpreter": {
      "hash": "4ae141d93f6337e9a20a8395b8018e64e99a1e5c84b295f1c46fe5520871454d"
    },
    "kernelspec": {
      "display_name": "'Python Interactive'",
      "language": "python",
      "name": "52c418bc-bd7d-4061-b6a2-3b59f32782e1"
    },
    "language_info": {
      "codemirror_mode": {
        "name": "ipython",
        "version": 3
      },
      "file_extension": ".py",
      "mimetype": "text/x-python",
      "name": "python",
      "nbconvert_exporter": "python",
      "pygments_lexer": "ipython3",
      "version": "3.7.4"
    }
  },
  "nbformat": 4,
  "nbformat_minor": 0
}
